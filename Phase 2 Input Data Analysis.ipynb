{
 "cells": [
  {
   "cell_type": "markdown",
   "id": "a784aaea",
   "metadata": {},
   "source": [
    "# Port-au-Prince Input Data Analysis "
   ]
  },
  {
   "cell_type": "markdown",
   "id": "9097bed2",
   "metadata": {},
   "source": [
    "### Authors: Carter Murphy, Nick Bourgeois, Mackenzie Kummer, Nolan Penoyer"
   ]
  },
  {
   "cell_type": "markdown",
   "id": "f08e9a6c",
   "metadata": {},
   "source": [
    "## Importing Packages"
   ]
  },
  {
   "cell_type": "code",
   "execution_count": 94,
   "id": "79ff68bb",
   "metadata": {},
   "outputs": [],
   "source": [
    "import pandas as pd\n",
    "import numpy as np\n",
    "import matplotlib.pyplot as plt\n",
    "import seaborn as sns\n",
    "import math\n",
    "import scipy.stats as stats\n",
    "from fitter import Fitter, get_common_distributions, get_distributions\n",
    "from statsmodels.sandbox.stats.runs import runstest_1samp\n",
    "from datetime import *"
   ]
  },
  {
   "cell_type": "markdown",
   "id": "bb2b826e",
   "metadata": {},
   "source": [
    "## Reading the Data"
   ]
  },
  {
   "cell_type": "code",
   "execution_count": 95,
   "id": "0d88c6d9",
   "metadata": {},
   "outputs": [
    {
     "data": {
      "text/html": [
       "<div>\n",
       "<style scoped>\n",
       "    .dataframe tbody tr th:only-of-type {\n",
       "        vertical-align: middle;\n",
       "    }\n",
       "\n",
       "    .dataframe tbody tr th {\n",
       "        vertical-align: top;\n",
       "    }\n",
       "\n",
       "    .dataframe thead th {\n",
       "        text-align: right;\n",
       "    }\n",
       "</style>\n",
       "<table border=\"1\" class=\"dataframe\">\n",
       "  <thead>\n",
       "    <tr style=\"text-align: right;\">\n",
       "      <th></th>\n",
       "      <th>Aircraft Type</th>\n",
       "      <th>Capacity (sTon)</th>\n",
       "      <th>Avg Load (sTon)</th>\n",
       "    </tr>\n",
       "  </thead>\n",
       "  <tbody>\n",
       "    <tr>\n",
       "      <th>0</th>\n",
       "      <td>707</td>\n",
       "      <td>26.0</td>\n",
       "      <td>20.28</td>\n",
       "    </tr>\n",
       "    <tr>\n",
       "      <th>1</th>\n",
       "      <td>727</td>\n",
       "      <td>13.0</td>\n",
       "      <td>10.14</td>\n",
       "    </tr>\n",
       "    <tr>\n",
       "      <th>2</th>\n",
       "      <td>737</td>\n",
       "      <td>11.0</td>\n",
       "      <td>8.58</td>\n",
       "    </tr>\n",
       "    <tr>\n",
       "      <th>3</th>\n",
       "      <td>747</td>\n",
       "      <td>78.0</td>\n",
       "      <td>60.84</td>\n",
       "    </tr>\n",
       "    <tr>\n",
       "      <th>4</th>\n",
       "      <td>767</td>\n",
       "      <td>58.0</td>\n",
       "      <td>45.24</td>\n",
       "    </tr>\n",
       "  </tbody>\n",
       "</table>\n",
       "</div>"
      ],
      "text/plain": [
       "  Aircraft Type  Capacity (sTon)  Avg Load (sTon)\n",
       "0           707             26.0            20.28\n",
       "1           727             13.0            10.14\n",
       "2           737             11.0             8.58\n",
       "3           747             78.0            60.84\n",
       "4           767             58.0            45.24"
      ]
     },
     "execution_count": 95,
     "metadata": {},
     "output_type": "execute_result"
    }
   ],
   "source": [
    "aircraft_capabilities = pd.read_excel(\"AircraftCapabilities.xlsx\")\n",
    "aircraft_capabilities.columns = ['Aircraft Type','Capacity (sTon)','Avg Load (sTon)']\n",
    "aircraft_capabilities.head()"
   ]
  },
  {
   "cell_type": "markdown",
   "id": "af46587d",
   "metadata": {},
   "source": [
    "### Aircraft Capacity Histogram"
   ]
  },
  {
   "cell_type": "code",
   "execution_count": 96,
   "id": "c506622c",
   "metadata": {
    "scrolled": true
   },
   "outputs": [
    {
     "data": {
      "image/png": "[encoded data removed]",
      "text/plain": [
       "<Figure size 432x288 with 1 Axes>"
      ]
     },
     "metadata": {
      "needs_background": "light"
     },
     "output_type": "display_data"
    }
   ],
   "source": [
    "sns.histplot(data=aircraft_capabilities,x='Capacity (sTon)',bins=math.ceil(math.sqrt(len(aircraft_capabilities))))\n",
    "plt.show()"
   ]
  },
  {
   "cell_type": "markdown",
   "id": "2c9cce68",
   "metadata": {},
   "source": [
    "### Aircraft Average Load Histogram"
   ]
  },
  {
   "cell_type": "code",
   "execution_count": 97,
   "id": "180a2964",
   "metadata": {},
   "outputs": [
    {
     "data": {
      "image/png": "[encoded data removed]",
      "text/plain": [
       "<Figure size 432x288 with 1 Axes>"
      ]
     },
     "metadata": {
      "needs_background": "light"
     },
     "output_type": "display_data"
    }
   ],
   "source": [
    "sns.histplot(data=aircraft_capabilities,x='Avg Load (sTon)',bins=math.ceil(math.sqrt(len(aircraft_capabilities))))\n",
    "plt.show()"
   ]
  },
  {
   "cell_type": "markdown",
   "id": "5b92bf53",
   "metadata": {},
   "source": [
    "### Goes through all aircraft types, then lists the capacity (in tons) of each type of aircraft and the average load of each type of aircraft. From the histograms plotted, it is evident that most planes carry a smaller load of around 0-50 tons of cargo. Therefore we have deemed it unneccessary to try and split up this data based on the type of aircraft (GOV, NGO, and MIL aircraft)."
   ]
  },
  {
   "cell_type": "code",
   "execution_count": 98,
   "id": "6acc463d",
   "metadata": {},
   "outputs": [
    {
     "data": {
      "text/html": [
       "<div>\n",
       "<style scoped>\n",
       "    .dataframe tbody tr th:only-of-type {\n",
       "        vertical-align: middle;\n",
       "    }\n",
       "\n",
       "    .dataframe tbody tr th {\n",
       "        vertical-align: top;\n",
       "    }\n",
       "\n",
       "    .dataframe thead th {\n",
       "        text-align: right;\n",
       "    }\n",
       "</style>\n",
       "<table border=\"1\" class=\"dataframe\">\n",
       "  <thead>\n",
       "    <tr style=\"text-align: right;\">\n",
       "      <th></th>\n",
       "      <th>Ground Time (Hrs)</th>\n",
       "      <th>ID</th>\n",
       "    </tr>\n",
       "  </thead>\n",
       "  <tbody>\n",
       "    <tr>\n",
       "      <th>0</th>\n",
       "      <td>1.872</td>\n",
       "      <td>2706</td>\n",
       "    </tr>\n",
       "    <tr>\n",
       "      <th>1</th>\n",
       "      <td>0.748</td>\n",
       "      <td>2707</td>\n",
       "    </tr>\n",
       "    <tr>\n",
       "      <th>2</th>\n",
       "      <td>1.454</td>\n",
       "      <td>2708</td>\n",
       "    </tr>\n",
       "    <tr>\n",
       "      <th>3</th>\n",
       "      <td>1.178</td>\n",
       "      <td>2709</td>\n",
       "    </tr>\n",
       "    <tr>\n",
       "      <th>4</th>\n",
       "      <td>1.202</td>\n",
       "      <td>2710</td>\n",
       "    </tr>\n",
       "  </tbody>\n",
       "</table>\n",
       "</div>"
      ],
      "text/plain": [
       "   Ground Time (Hrs)    ID\n",
       "0              1.872  2706\n",
       "1              0.748  2707\n",
       "2              1.454  2708\n",
       "3              1.178  2709\n",
       "4              1.202  2710"
      ]
     },
     "execution_count": 98,
     "metadata": {},
     "output_type": "execute_result"
    }
   ],
   "source": [
    "ground_time = pd.read_excel(\"GroundTime.xlsx\")\n",
    "ground_time = ground_time.drop(ground_time.columns[[2,3]], axis=1)\n",
    "ground_time.columns = ['Ground Time (Hrs)', 'ID']\n",
    "ground_time.head()"
   ]
  },
  {
   "cell_type": "markdown",
   "id": "dbb61721",
   "metadata": {},
   "source": [
    "### Lists an ID for each plane that can also be found in HFOCC data, and pairs the ground time (in hours) for every aircraft. Each ground time observation can be understood as the time from landing at the Port-au-Prince airport to leaving the airport. The ground time is measured in hours. "
   ]
  },
  {
   "cell_type": "code",
   "execution_count": 99,
   "id": "df8c1176",
   "metadata": {},
   "outputs": [
    {
     "data": {
      "text/html": [
       "<div>\n",
       "<style scoped>\n",
       "    .dataframe tbody tr th:only-of-type {\n",
       "        vertical-align: middle;\n",
       "    }\n",
       "\n",
       "    .dataframe tbody tr th {\n",
       "        vertical-align: top;\n",
       "    }\n",
       "\n",
       "    .dataframe thead th {\n",
       "        text-align: right;\n",
       "    }\n",
       "</style>\n",
       "<table border=\"1\" class=\"dataframe\">\n",
       "  <thead>\n",
       "    <tr style=\"text-align: right;\">\n",
       "      <th></th>\n",
       "      <th>Request Status</th>\n",
       "      <th>Arrival Date</th>\n",
       "      <th>Arrival Time</th>\n",
       "      <th>Organization</th>\n",
       "      <th>Aircraft Type</th>\n",
       "      <th>Call Sign</th>\n",
       "      <th>Tail #</th>\n",
       "      <th>A/C Size</th>\n",
       "      <th>Affiliation</th>\n",
       "      <th>Request ID</th>\n",
       "      <th>...</th>\n",
       "      <th>Nationality</th>\n",
       "      <th>Mission purpose</th>\n",
       "      <th># Pax</th>\n",
       "      <th>CNX DATE</th>\n",
       "      <th>CNX TIME</th>\n",
       "      <th>AF Planner Remarks</th>\n",
       "      <th>AF Manager Remarks</th>\n",
       "      <th>ID</th>\n",
       "      <th>Modified</th>\n",
       "      <th>Created</th>\n",
       "    </tr>\n",
       "  </thead>\n",
       "  <tbody>\n",
       "    <tr>\n",
       "      <th>0</th>\n",
       "      <td>Complete</td>\n",
       "      <td>2010-01-12</td>\n",
       "      <td>2100Z</td>\n",
       "      <td>DSWA LLC</td>\n",
       "      <td>LEARJET</td>\n",
       "      <td>N4009</td>\n",
       "      <td>N4009</td>\n",
       "      <td>N</td>\n",
       "      <td>NGO</td>\n",
       "      <td>TBD</td>\n",
       "      <td>...</td>\n",
       "      <td>UNITED STATES</td>\n",
       "      <td>MEDICAL SUPPLIES/MEDICAL PAX</td>\n",
       "      <td>UNK</td>\n",
       "      <td>NaN</td>\n",
       "      <td>NaN</td>\n",
       "      <td>JJ</td>\n",
       "      <td>NaN</td>\n",
       "      <td>2706</td>\n",
       "      <td>2010-02-06 15:22:56</td>\n",
       "      <td>2010-02-03 09:08:54</td>\n",
       "    </tr>\n",
       "    <tr>\n",
       "      <th>1</th>\n",
       "      <td>Complete</td>\n",
       "      <td>2010-01-15</td>\n",
       "      <td>1900Z</td>\n",
       "      <td>DOD</td>\n",
       "      <td>UNKNOWN</td>\n",
       "      <td>PAT141</td>\n",
       "      <td>Unknown</td>\n",
       "      <td>S</td>\n",
       "      <td>MIL</td>\n",
       "      <td>TBD</td>\n",
       "      <td>...</td>\n",
       "      <td>UNITED STATES</td>\n",
       "      <td>GA ARMY GUARD PAX  &amp; CARGO</td>\n",
       "      <td>2</td>\n",
       "      <td>NaN</td>\n",
       "      <td>NaN</td>\n",
       "      <td>NaN</td>\n",
       "      <td>NaN</td>\n",
       "      <td>2707</td>\n",
       "      <td>2010-02-11 10:36:54</td>\n",
       "      <td>2010-02-03 09:08:54</td>\n",
       "    </tr>\n",
       "    <tr>\n",
       "      <th>2</th>\n",
       "      <td>Complete</td>\n",
       "      <td>2010-01-16</td>\n",
       "      <td>0400Z</td>\n",
       "      <td>US SENATOR</td>\n",
       "      <td>GULFSTREAM</td>\n",
       "      <td>N450GD</td>\n",
       "      <td>N450GD</td>\n",
       "      <td>N</td>\n",
       "      <td>GOV</td>\n",
       "      <td>125</td>\n",
       "      <td>...</td>\n",
       "      <td>UNITED STATES</td>\n",
       "      <td>PICK UP EVACUEES</td>\n",
       "      <td>14</td>\n",
       "      <td>NaN</td>\n",
       "      <td>NaN</td>\n",
       "      <td>NaN</td>\n",
       "      <td>NaN</td>\n",
       "      <td>2708</td>\n",
       "      <td>2010-02-06 15:01:10</td>\n",
       "      <td>2010-02-03 09:08:54</td>\n",
       "    </tr>\n",
       "    <tr>\n",
       "      <th>3</th>\n",
       "      <td>Complete</td>\n",
       "      <td>2010-01-16</td>\n",
       "      <td>0900Z</td>\n",
       "      <td>DoD (612)</td>\n",
       "      <td>UNKNOWN</td>\n",
       "      <td>SHARK94</td>\n",
       "      <td>Unknown</td>\n",
       "      <td>N</td>\n",
       "      <td>MIL</td>\n",
       "      <td>F319</td>\n",
       "      <td>...</td>\n",
       "      <td>UNITED STATES</td>\n",
       "      <td>CARGO OUT/AM DIV SHUTTLE</td>\n",
       "      <td>UNK</td>\n",
       "      <td>NaN</td>\n",
       "      <td>NaN</td>\n",
       "      <td>NaN</td>\n",
       "      <td>NaN</td>\n",
       "      <td>2709</td>\n",
       "      <td>2010-02-07 08:20:31</td>\n",
       "      <td>2010-02-03 09:08:54</td>\n",
       "    </tr>\n",
       "    <tr>\n",
       "      <th>4</th>\n",
       "      <td>Complete</td>\n",
       "      <td>2010-01-16</td>\n",
       "      <td>1000Z</td>\n",
       "      <td>1 SOW</td>\n",
       "      <td>C130</td>\n",
       "      <td>RCH1031</td>\n",
       "      <td>UNKNOWN</td>\n",
       "      <td>N</td>\n",
       "      <td>MIL</td>\n",
       "      <td>159</td>\n",
       "      <td>...</td>\n",
       "      <td>UNITED STATES</td>\n",
       "      <td>MEDICAL SUPPLIES</td>\n",
       "      <td>5</td>\n",
       "      <td>NaN</td>\n",
       "      <td>NaN</td>\n",
       "      <td>NaN</td>\n",
       "      <td>NaN</td>\n",
       "      <td>2710</td>\n",
       "      <td>2010-02-11 13:24:41</td>\n",
       "      <td>2010-02-03 09:08:54</td>\n",
       "    </tr>\n",
       "  </tbody>\n",
       "</table>\n",
       "<p>5 rows × 21 columns</p>\n",
       "</div>"
      ],
      "text/plain": [
       "  Request Status Arrival Date Arrival Time Organization Aircraft Type  \\\n",
       "0       Complete   2010-01-12        2100Z     DSWA LLC       LEARJET   \n",
       "1       Complete   2010-01-15        1900Z          DOD       UNKNOWN   \n",
       "2       Complete   2010-01-16        0400Z   US SENATOR    GULFSTREAM   \n",
       "3       Complete   2010-01-16        0900Z    DoD (612)       UNKNOWN   \n",
       "4       Complete   2010-01-16        1000Z        1 SOW          C130   \n",
       "\n",
       "  Call Sign   Tail # A/C Size Affiliation Request ID  ...    Nationality  \\\n",
       "0     N4009    N4009        N         NGO        TBD  ...  UNITED STATES   \n",
       "1    PAT141  Unknown        S         MIL        TBD  ...  UNITED STATES   \n",
       "2    N450GD   N450GD        N         GOV        125  ...  UNITED STATES   \n",
       "3   SHARK94  Unknown        N         MIL       F319  ...  UNITED STATES   \n",
       "4   RCH1031  UNKNOWN        N         MIL        159  ...  UNITED STATES   \n",
       "\n",
       "                Mission purpose # Pax CNX DATE  CNX TIME AF Planner Remarks  \\\n",
       "0  MEDICAL SUPPLIES/MEDICAL PAX   UNK      NaN       NaN                 JJ   \n",
       "1    GA ARMY GUARD PAX  & CARGO     2      NaN       NaN                NaN   \n",
       "2              PICK UP EVACUEES    14      NaN       NaN                NaN   \n",
       "3      CARGO OUT/AM DIV SHUTTLE   UNK      NaN       NaN                NaN   \n",
       "4              MEDICAL SUPPLIES     5      NaN       NaN                NaN   \n",
       "\n",
       "  AF Manager Remarks    ID            Modified             Created  \n",
       "0                NaN  2706 2010-02-06 15:22:56 2010-02-03 09:08:54  \n",
       "1                NaN  2707 2010-02-11 10:36:54 2010-02-03 09:08:54  \n",
       "2                NaN  2708 2010-02-06 15:01:10 2010-02-03 09:08:54  \n",
       "3                NaN  2709 2010-02-07 08:20:31 2010-02-03 09:08:54  \n",
       "4                NaN  2710 2010-02-11 13:24:41 2010-02-03 09:08:54  \n",
       "\n",
       "[5 rows x 21 columns]"
      ]
     },
     "execution_count": 99,
     "metadata": {},
     "output_type": "execute_result"
    }
   ],
   "source": [
    "hfocc = pd.read_excel(\"HFOCC.xlsx\")\n",
    "hfocc.head()"
   ]
  },
  {
   "cell_type": "markdown",
   "id": "5c20b7cf",
   "metadata": {},
   "source": [
    "### Lots of unnecessary data, lets us know the Id of plane and the size of each plane. Also tells us the arrival time and arrival date. Also whether the plane actually arrived "
   ]
  },
  {
   "cell_type": "code",
   "execution_count": 100,
   "id": "626880d6",
   "metadata": {},
   "outputs": [
    {
     "data": {
      "text/html": [
       "<div>\n",
       "<style scoped>\n",
       "    .dataframe tbody tr th:only-of-type {\n",
       "        vertical-align: middle;\n",
       "    }\n",
       "\n",
       "    .dataframe tbody tr th {\n",
       "        vertical-align: top;\n",
       "    }\n",
       "\n",
       "    .dataframe thead th {\n",
       "        text-align: right;\n",
       "    }\n",
       "</style>\n",
       "<table border=\"1\" class=\"dataframe\">\n",
       "  <thead>\n",
       "    <tr style=\"text-align: right;\">\n",
       "      <th></th>\n",
       "      <th>Dates</th>\n",
       "      <th>Water</th>\n",
       "      <th>Food</th>\n",
       "      <th>Medical</th>\n",
       "      <th>Logistics</th>\n",
       "    </tr>\n",
       "  </thead>\n",
       "  <tbody>\n",
       "    <tr>\n",
       "      <th>0</th>\n",
       "      <td>13 Jan-28 Jan</td>\n",
       "      <td>390</td>\n",
       "      <td>290</td>\n",
       "      <td>250</td>\n",
       "      <td>700</td>\n",
       "    </tr>\n",
       "    <tr>\n",
       "      <th>1</th>\n",
       "      <td>29 Jan-28 Feb</td>\n",
       "      <td>195</td>\n",
       "      <td>145</td>\n",
       "      <td>125</td>\n",
       "      <td>200</td>\n",
       "    </tr>\n",
       "  </tbody>\n",
       "</table>\n",
       "</div>"
      ],
      "text/plain": [
       "           Dates  Water  Food  Medical  Logistics\n",
       "0  13 Jan-28 Jan    390   290      250        700\n",
       "1  29 Jan-28 Feb    195   145      125        200"
      ]
     },
     "execution_count": 100,
     "metadata": {},
     "output_type": "execute_result"
    }
   ],
   "source": [
    "data = [['13 Jan-28 Jan',390,290,250,700],['29 Jan-28 Feb',195,145,125,200]]\n",
    "daily_demand = pd.DataFrame(data,columns=['Dates','Water','Food','Medical','Logistics'])\n",
    "daily_demand"
   ]
  },
  {
   "cell_type": "markdown",
   "id": "2ae7cc32",
   "metadata": {},
   "source": [
    "### Lists the average daily demand (in tons) of water, food, medical supplies, and logistics over the specified dates"
   ]
  },
  {
   "cell_type": "markdown",
   "id": "13f48601",
   "metadata": {},
   "source": [
    "## Merging the HFOCC and Ground Time data"
   ]
  },
  {
   "cell_type": "code",
   "execution_count": 101,
   "id": "99380f68",
   "metadata": {},
   "outputs": [
    {
     "data": {
      "text/html": [
       "<div>\n",
       "<style scoped>\n",
       "    .dataframe tbody tr th:only-of-type {\n",
       "        vertical-align: middle;\n",
       "    }\n",
       "\n",
       "    .dataframe tbody tr th {\n",
       "        vertical-align: top;\n",
       "    }\n",
       "\n",
       "    .dataframe thead th {\n",
       "        text-align: right;\n",
       "    }\n",
       "</style>\n",
       "<table border=\"1\" class=\"dataframe\">\n",
       "  <thead>\n",
       "    <tr style=\"text-align: right;\">\n",
       "      <th></th>\n",
       "      <th>Ground Time (Hrs)</th>\n",
       "      <th>ID</th>\n",
       "      <th>Request Status</th>\n",
       "      <th>Arrival Date</th>\n",
       "      <th>Arrival Time</th>\n",
       "      <th>Organization</th>\n",
       "      <th>Aircraft Type</th>\n",
       "      <th>Call Sign</th>\n",
       "      <th>Tail #</th>\n",
       "      <th>A/C Size</th>\n",
       "      <th>...</th>\n",
       "      <th>Chg</th>\n",
       "      <th>Nationality</th>\n",
       "      <th>Mission purpose</th>\n",
       "      <th># Pax</th>\n",
       "      <th>CNX DATE</th>\n",
       "      <th>CNX TIME</th>\n",
       "      <th>AF Planner Remarks</th>\n",
       "      <th>AF Manager Remarks</th>\n",
       "      <th>Modified</th>\n",
       "      <th>Created</th>\n",
       "    </tr>\n",
       "  </thead>\n",
       "  <tbody>\n",
       "    <tr>\n",
       "      <th>0</th>\n",
       "      <td>1.872</td>\n",
       "      <td>2706</td>\n",
       "      <td>Complete</td>\n",
       "      <td>2010-01-12</td>\n",
       "      <td>2100Z</td>\n",
       "      <td>DSWA LLC</td>\n",
       "      <td>LEARJET</td>\n",
       "      <td>N4009</td>\n",
       "      <td>N4009</td>\n",
       "      <td>N</td>\n",
       "      <td>...</td>\n",
       "      <td>0.0</td>\n",
       "      <td>UNITED STATES</td>\n",
       "      <td>MEDICAL SUPPLIES/MEDICAL PAX</td>\n",
       "      <td>UNK</td>\n",
       "      <td>NaN</td>\n",
       "      <td>NaN</td>\n",
       "      <td>JJ</td>\n",
       "      <td>NaN</td>\n",
       "      <td>2010-02-06 15:22:56</td>\n",
       "      <td>2010-02-03 09:08:54</td>\n",
       "    </tr>\n",
       "    <tr>\n",
       "      <th>1</th>\n",
       "      <td>0.748</td>\n",
       "      <td>2707</td>\n",
       "      <td>Complete</td>\n",
       "      <td>2010-01-15</td>\n",
       "      <td>1900Z</td>\n",
       "      <td>DOD</td>\n",
       "      <td>UNKNOWN</td>\n",
       "      <td>PAT141</td>\n",
       "      <td>Unknown</td>\n",
       "      <td>S</td>\n",
       "      <td>...</td>\n",
       "      <td>0.0</td>\n",
       "      <td>UNITED STATES</td>\n",
       "      <td>GA ARMY GUARD PAX  &amp; CARGO</td>\n",
       "      <td>2</td>\n",
       "      <td>NaN</td>\n",
       "      <td>NaN</td>\n",
       "      <td>NaN</td>\n",
       "      <td>NaN</td>\n",
       "      <td>2010-02-11 10:36:54</td>\n",
       "      <td>2010-02-03 09:08:54</td>\n",
       "    </tr>\n",
       "    <tr>\n",
       "      <th>2</th>\n",
       "      <td>1.454</td>\n",
       "      <td>2708</td>\n",
       "      <td>Complete</td>\n",
       "      <td>2010-01-16</td>\n",
       "      <td>0400Z</td>\n",
       "      <td>US SENATOR</td>\n",
       "      <td>GULFSTREAM</td>\n",
       "      <td>N450GD</td>\n",
       "      <td>N450GD</td>\n",
       "      <td>N</td>\n",
       "      <td>...</td>\n",
       "      <td>0.0</td>\n",
       "      <td>UNITED STATES</td>\n",
       "      <td>PICK UP EVACUEES</td>\n",
       "      <td>14</td>\n",
       "      <td>NaN</td>\n",
       "      <td>NaN</td>\n",
       "      <td>NaN</td>\n",
       "      <td>NaN</td>\n",
       "      <td>2010-02-06 15:01:10</td>\n",
       "      <td>2010-02-03 09:08:54</td>\n",
       "    </tr>\n",
       "    <tr>\n",
       "      <th>3</th>\n",
       "      <td>1.178</td>\n",
       "      <td>2709</td>\n",
       "      <td>Complete</td>\n",
       "      <td>2010-01-16</td>\n",
       "      <td>0900Z</td>\n",
       "      <td>DoD (612)</td>\n",
       "      <td>UNKNOWN</td>\n",
       "      <td>SHARK94</td>\n",
       "      <td>Unknown</td>\n",
       "      <td>N</td>\n",
       "      <td>...</td>\n",
       "      <td>0.0</td>\n",
       "      <td>UNITED STATES</td>\n",
       "      <td>CARGO OUT/AM DIV SHUTTLE</td>\n",
       "      <td>UNK</td>\n",
       "      <td>NaN</td>\n",
       "      <td>NaN</td>\n",
       "      <td>NaN</td>\n",
       "      <td>NaN</td>\n",
       "      <td>2010-02-07 08:20:31</td>\n",
       "      <td>2010-02-03 09:08:54</td>\n",
       "    </tr>\n",
       "    <tr>\n",
       "      <th>4</th>\n",
       "      <td>1.202</td>\n",
       "      <td>2710</td>\n",
       "      <td>Complete</td>\n",
       "      <td>2010-01-16</td>\n",
       "      <td>1000Z</td>\n",
       "      <td>1 SOW</td>\n",
       "      <td>C130</td>\n",
       "      <td>RCH1031</td>\n",
       "      <td>UNKNOWN</td>\n",
       "      <td>N</td>\n",
       "      <td>...</td>\n",
       "      <td>0.0</td>\n",
       "      <td>UNITED STATES</td>\n",
       "      <td>MEDICAL SUPPLIES</td>\n",
       "      <td>5</td>\n",
       "      <td>NaN</td>\n",
       "      <td>NaN</td>\n",
       "      <td>NaN</td>\n",
       "      <td>NaN</td>\n",
       "      <td>2010-02-11 13:24:41</td>\n",
       "      <td>2010-02-03 09:08:54</td>\n",
       "    </tr>\n",
       "  </tbody>\n",
       "</table>\n",
       "<p>5 rows × 22 columns</p>\n",
       "</div>"
      ],
      "text/plain": [
       "   Ground Time (Hrs)    ID Request Status Arrival Date Arrival Time  \\\n",
       "0              1.872  2706       Complete   2010-01-12        2100Z   \n",
       "1              0.748  2707       Complete   2010-01-15        1900Z   \n",
       "2              1.454  2708       Complete   2010-01-16        0400Z   \n",
       "3              1.178  2709       Complete   2010-01-16        0900Z   \n",
       "4              1.202  2710       Complete   2010-01-16        1000Z   \n",
       "\n",
       "  Organization Aircraft Type Call Sign   Tail # A/C Size  ...  Chg  \\\n",
       "0     DSWA LLC       LEARJET     N4009    N4009        N  ...  0.0   \n",
       "1          DOD       UNKNOWN    PAT141  Unknown        S  ...  0.0   \n",
       "2   US SENATOR    GULFSTREAM    N450GD   N450GD        N  ...  0.0   \n",
       "3    DoD (612)       UNKNOWN   SHARK94  Unknown        N  ...  0.0   \n",
       "4        1 SOW          C130   RCH1031  UNKNOWN        N  ...  0.0   \n",
       "\n",
       "     Nationality               Mission purpose # Pax CNX DATE CNX TIME  \\\n",
       "0  UNITED STATES  MEDICAL SUPPLIES/MEDICAL PAX   UNK      NaN      NaN   \n",
       "1  UNITED STATES    GA ARMY GUARD PAX  & CARGO     2      NaN      NaN   \n",
       "2  UNITED STATES              PICK UP EVACUEES    14      NaN      NaN   \n",
       "3  UNITED STATES      CARGO OUT/AM DIV SHUTTLE   UNK      NaN      NaN   \n",
       "4  UNITED STATES              MEDICAL SUPPLIES     5      NaN      NaN   \n",
       "\n",
       "   AF Planner Remarks AF Manager Remarks            Modified  \\\n",
       "0                  JJ                NaN 2010-02-06 15:22:56   \n",
       "1                 NaN                NaN 2010-02-11 10:36:54   \n",
       "2                 NaN                NaN 2010-02-06 15:01:10   \n",
       "3                 NaN                NaN 2010-02-07 08:20:31   \n",
       "4                 NaN                NaN 2010-02-11 13:24:41   \n",
       "\n",
       "              Created  \n",
       "0 2010-02-03 09:08:54  \n",
       "1 2010-02-03 09:08:54  \n",
       "2 2010-02-03 09:08:54  \n",
       "3 2010-02-03 09:08:54  \n",
       "4 2010-02-03 09:08:54  \n",
       "\n",
       "[5 rows x 22 columns]"
      ]
     },
     "execution_count": 101,
     "metadata": {},
     "output_type": "execute_result"
    }
   ],
   "source": [
    "hfocc2 = ground_time.merge(hfocc, on='ID', how='inner')\n",
    "hfocc2.head()"
   ]
  },
  {
   "cell_type": "markdown",
   "id": "6c342ecb",
   "metadata": {},
   "source": [
    "### Now that we have combined the HFOCC data with the ground time data to match the ID of each plane. We can split the new data set for the size of each plane (wide, narrow, and small aircraft).  "
   ]
  },
  {
   "cell_type": "code",
   "execution_count": 102,
   "id": "cb3889d4",
   "metadata": {},
   "outputs": [
    {
     "data": {
      "text/html": [
       "<div>\n",
       "<style scoped>\n",
       "    .dataframe tbody tr th:only-of-type {\n",
       "        vertical-align: middle;\n",
       "    }\n",
       "\n",
       "    .dataframe tbody tr th {\n",
       "        vertical-align: top;\n",
       "    }\n",
       "\n",
       "    .dataframe thead th {\n",
       "        text-align: right;\n",
       "    }\n",
       "</style>\n",
       "<table border=\"1\" class=\"dataframe\">\n",
       "  <thead>\n",
       "    <tr style=\"text-align: right;\">\n",
       "      <th></th>\n",
       "      <th>Ground Time (Hrs)</th>\n",
       "      <th>ID</th>\n",
       "      <th>Request Status</th>\n",
       "      <th>Arrival Date</th>\n",
       "      <th>Arrival Time</th>\n",
       "      <th>Aircraft Type</th>\n",
       "      <th>A/C Size</th>\n",
       "      <th>CNX DATE</th>\n",
       "      <th>CNX TIME</th>\n",
       "    </tr>\n",
       "  </thead>\n",
       "  <tbody>\n",
       "    <tr>\n",
       "      <th>0</th>\n",
       "      <td>1.872</td>\n",
       "      <td>2706</td>\n",
       "      <td>Complete</td>\n",
       "      <td>2010-01-12</td>\n",
       "      <td>2100Z</td>\n",
       "      <td>LEARJET</td>\n",
       "      <td>N</td>\n",
       "      <td>NaN</td>\n",
       "      <td>NaN</td>\n",
       "    </tr>\n",
       "    <tr>\n",
       "      <th>1</th>\n",
       "      <td>0.748</td>\n",
       "      <td>2707</td>\n",
       "      <td>Complete</td>\n",
       "      <td>2010-01-15</td>\n",
       "      <td>1900Z</td>\n",
       "      <td>UNKNOWN</td>\n",
       "      <td>S</td>\n",
       "      <td>NaN</td>\n",
       "      <td>NaN</td>\n",
       "    </tr>\n",
       "    <tr>\n",
       "      <th>2</th>\n",
       "      <td>1.454</td>\n",
       "      <td>2708</td>\n",
       "      <td>Complete</td>\n",
       "      <td>2010-01-16</td>\n",
       "      <td>0400Z</td>\n",
       "      <td>GULFSTREAM</td>\n",
       "      <td>N</td>\n",
       "      <td>NaN</td>\n",
       "      <td>NaN</td>\n",
       "    </tr>\n",
       "    <tr>\n",
       "      <th>3</th>\n",
       "      <td>1.178</td>\n",
       "      <td>2709</td>\n",
       "      <td>Complete</td>\n",
       "      <td>2010-01-16</td>\n",
       "      <td>0900Z</td>\n",
       "      <td>UNKNOWN</td>\n",
       "      <td>N</td>\n",
       "      <td>NaN</td>\n",
       "      <td>NaN</td>\n",
       "    </tr>\n",
       "    <tr>\n",
       "      <th>4</th>\n",
       "      <td>1.202</td>\n",
       "      <td>2710</td>\n",
       "      <td>Complete</td>\n",
       "      <td>2010-01-16</td>\n",
       "      <td>1000Z</td>\n",
       "      <td>C130</td>\n",
       "      <td>N</td>\n",
       "      <td>NaN</td>\n",
       "      <td>NaN</td>\n",
       "    </tr>\n",
       "  </tbody>\n",
       "</table>\n",
       "</div>"
      ],
      "text/plain": [
       "   Ground Time (Hrs)    ID Request Status Arrival Date Arrival Time  \\\n",
       "0              1.872  2706       Complete   2010-01-12        2100Z   \n",
       "1              0.748  2707       Complete   2010-01-15        1900Z   \n",
       "2              1.454  2708       Complete   2010-01-16        0400Z   \n",
       "3              1.178  2709       Complete   2010-01-16        0900Z   \n",
       "4              1.202  2710       Complete   2010-01-16        1000Z   \n",
       "\n",
       "  Aircraft Type A/C Size  CNX DATE CNX TIME  \n",
       "0       LEARJET        N       NaN      NaN  \n",
       "1       UNKNOWN        S       NaN      NaN  \n",
       "2    GULFSTREAM        N       NaN      NaN  \n",
       "3       UNKNOWN        N       NaN      NaN  \n",
       "4          C130        N       NaN      NaN  "
      ]
     },
     "execution_count": 102,
     "metadata": {},
     "output_type": "execute_result"
    }
   ],
   "source": [
    "hfocc2_tidy = hfocc2[['Ground Time (Hrs)','ID','Request Status','Arrival Date','Arrival Time','Aircraft Type','A/C Size','CNX DATE','CNX TIME']]\n",
    "hfocc2_tidy.head()"
   ]
  },
  {
   "cell_type": "code",
   "execution_count": 103,
   "id": "bed1600f",
   "metadata": {
    "scrolled": true
   },
   "outputs": [
    {
     "name": "stderr",
     "output_type": "stream",
     "text": [
      "C:\\Users\\C23NIC~1.BOU\\AppData\\Local\\Temp/ipykernel_17084/2698084838.py:1: SettingWithCopyWarning: \n",
      "A value is trying to be set on a copy of a slice from a DataFrame.\n",
      "Try using .loc[row_indexer,col_indexer] = value instead\n",
      "\n",
      "See the caveats in the documentation: https://pandas.pydata.org/pandas-docs/stable/user_guide/indexing.html#returning-a-view-versus-a-copy\n",
      "  hfocc2_tidy['Arrival Time'] = hfocc2_tidy['Arrival Time'].str.replace('Z','')\n"
     ]
    },
    {
     "data": {
      "text/html": [
       "<div>\n",
       "<style scoped>\n",
       "    .dataframe tbody tr th:only-of-type {\n",
       "        vertical-align: middle;\n",
       "    }\n",
       "\n",
       "    .dataframe tbody tr th {\n",
       "        vertical-align: top;\n",
       "    }\n",
       "\n",
       "    .dataframe thead th {\n",
       "        text-align: right;\n",
       "    }\n",
       "</style>\n",
       "<table border=\"1\" class=\"dataframe\">\n",
       "  <thead>\n",
       "    <tr style=\"text-align: right;\">\n",
       "      <th></th>\n",
       "      <th>Ground Time (Hrs)</th>\n",
       "      <th>ID</th>\n",
       "      <th>Request Status</th>\n",
       "      <th>Arrival Date</th>\n",
       "      <th>Arrival Time</th>\n",
       "      <th>Aircraft Type</th>\n",
       "      <th>A/C Size</th>\n",
       "      <th>CNX DATE</th>\n",
       "      <th>CNX TIME</th>\n",
       "    </tr>\n",
       "  </thead>\n",
       "  <tbody>\n",
       "    <tr>\n",
       "      <th>0</th>\n",
       "      <td>1.872</td>\n",
       "      <td>2706</td>\n",
       "      <td>Complete</td>\n",
       "      <td>2010-01-12</td>\n",
       "      <td>2100</td>\n",
       "      <td>LEARJET</td>\n",
       "      <td>N</td>\n",
       "      <td>NaN</td>\n",
       "      <td>NaN</td>\n",
       "    </tr>\n",
       "    <tr>\n",
       "      <th>1</th>\n",
       "      <td>0.748</td>\n",
       "      <td>2707</td>\n",
       "      <td>Complete</td>\n",
       "      <td>2010-01-15</td>\n",
       "      <td>1900</td>\n",
       "      <td>UNKNOWN</td>\n",
       "      <td>S</td>\n",
       "      <td>NaN</td>\n",
       "      <td>NaN</td>\n",
       "    </tr>\n",
       "    <tr>\n",
       "      <th>2</th>\n",
       "      <td>1.454</td>\n",
       "      <td>2708</td>\n",
       "      <td>Complete</td>\n",
       "      <td>2010-01-16</td>\n",
       "      <td>0400</td>\n",
       "      <td>GULFSTREAM</td>\n",
       "      <td>N</td>\n",
       "      <td>NaN</td>\n",
       "      <td>NaN</td>\n",
       "    </tr>\n",
       "    <tr>\n",
       "      <th>3</th>\n",
       "      <td>1.178</td>\n",
       "      <td>2709</td>\n",
       "      <td>Complete</td>\n",
       "      <td>2010-01-16</td>\n",
       "      <td>0900</td>\n",
       "      <td>UNKNOWN</td>\n",
       "      <td>N</td>\n",
       "      <td>NaN</td>\n",
       "      <td>NaN</td>\n",
       "    </tr>\n",
       "    <tr>\n",
       "      <th>4</th>\n",
       "      <td>1.202</td>\n",
       "      <td>2710</td>\n",
       "      <td>Complete</td>\n",
       "      <td>2010-01-16</td>\n",
       "      <td>1000</td>\n",
       "      <td>C130</td>\n",
       "      <td>N</td>\n",
       "      <td>NaN</td>\n",
       "      <td>NaN</td>\n",
       "    </tr>\n",
       "  </tbody>\n",
       "</table>\n",
       "</div>"
      ],
      "text/plain": [
       "   Ground Time (Hrs)    ID Request Status Arrival Date Arrival Time  \\\n",
       "0              1.872  2706       Complete   2010-01-12         2100   \n",
       "1              0.748  2707       Complete   2010-01-15         1900   \n",
       "2              1.454  2708       Complete   2010-01-16         0400   \n",
       "3              1.178  2709       Complete   2010-01-16         0900   \n",
       "4              1.202  2710       Complete   2010-01-16         1000   \n",
       "\n",
       "  Aircraft Type A/C Size  CNX DATE CNX TIME  \n",
       "0       LEARJET        N       NaN      NaN  \n",
       "1       UNKNOWN        S       NaN      NaN  \n",
       "2    GULFSTREAM        N       NaN      NaN  \n",
       "3       UNKNOWN        N       NaN      NaN  \n",
       "4          C130        N       NaN      NaN  "
      ]
     },
     "execution_count": 103,
     "metadata": {},
     "output_type": "execute_result"
    }
   ],
   "source": [
    "hfocc2_tidy['Arrival Time'] = hfocc2_tidy['Arrival Time'].str.replace('Z','')\n",
    "hfocc2_tidy.head()"
   ]
  },
  {
   "cell_type": "code",
   "execution_count": 104,
   "id": "95d7bf07",
   "metadata": {},
   "outputs": [],
   "source": [
    "plane_narrow = hfocc2_tidy[hfocc2_tidy['A/C Size'] == 'N']"
   ]
  },
  {
   "cell_type": "code",
   "execution_count": 105,
   "id": "5673976d",
   "metadata": {},
   "outputs": [],
   "source": [
    "plane_wide = hfocc2_tidy[hfocc2_tidy['A/C Size'] == 'W']"
   ]
  },
  {
   "cell_type": "code",
   "execution_count": 106,
   "id": "cc4161c4",
   "metadata": {},
   "outputs": [],
   "source": [
    "plane_small = hfocc2_tidy[hfocc2_tidy['A/C Size'] == 'S']"
   ]
  },
  {
   "cell_type": "markdown",
   "id": "f7e14a95",
   "metadata": {},
   "source": [
    "### The new data set containing important arrival and ground time data has been split into three different dataframes. Each dataframe corresponds to the three different sizes of planes arriving into Port-au-Prince airport. We can now use each of these dataframes to inspect the homogeneity, stationarity, and independence of the ground time data for the different sizes of planes. "
   ]
  },
  {
   "cell_type": "markdown",
   "id": "6eb389e5",
   "metadata": {},
   "source": [
    "## Analysis of Arrival Dates"
   ]
  },
  {
   "cell_type": "markdown",
   "id": "bd7d3510",
   "metadata": {},
   "source": [
    "### Converting the dates into integers "
   ]
  },
  {
   "cell_type": "code",
   "execution_count": 107,
   "id": "db4809ee",
   "metadata": {
    "scrolled": false
   },
   "outputs": [
    {
     "data": {
      "text/html": [
       "<div>\n",
       "<style scoped>\n",
       "    .dataframe tbody tr th:only-of-type {\n",
       "        vertical-align: middle;\n",
       "    }\n",
       "\n",
       "    .dataframe tbody tr th {\n",
       "        vertical-align: top;\n",
       "    }\n",
       "\n",
       "    .dataframe thead th {\n",
       "        text-align: right;\n",
       "    }\n",
       "</style>\n",
       "<table border=\"1\" class=\"dataframe\">\n",
       "  <thead>\n",
       "    <tr style=\"text-align: right;\">\n",
       "      <th></th>\n",
       "      <th>Date</th>\n",
       "    </tr>\n",
       "  </thead>\n",
       "  <tbody>\n",
       "    <tr>\n",
       "      <th>0</th>\n",
       "      <td>0</td>\n",
       "    </tr>\n",
       "    <tr>\n",
       "      <th>1</th>\n",
       "      <td>3</td>\n",
       "    </tr>\n",
       "    <tr>\n",
       "      <th>2</th>\n",
       "      <td>4</td>\n",
       "    </tr>\n",
       "    <tr>\n",
       "      <th>3</th>\n",
       "      <td>4</td>\n",
       "    </tr>\n",
       "    <tr>\n",
       "      <th>4</th>\n",
       "      <td>4</td>\n",
       "    </tr>\n",
       "  </tbody>\n",
       "</table>\n",
       "</div>"
      ],
      "text/plain": [
       "   Date\n",
       "0     0\n",
       "1     3\n",
       "2     4\n",
       "3     4\n",
       "4     4"
      ]
     },
     "execution_count": 107,
     "metadata": {},
     "output_type": "execute_result"
    }
   ],
   "source": [
    "new_dates = pd.read_excel(\"HFOCC Dates Converted.xlsx\")\n",
    "new_dates = new_dates.filter([\"Date\"])\n",
    "new_dates.head()"
   ]
  },
  {
   "cell_type": "code",
   "execution_count": 108,
   "id": "c31fe78d",
   "metadata": {},
   "outputs": [
    {
     "data": {
      "text/html": [
       "<div>\n",
       "<style scoped>\n",
       "    .dataframe tbody tr th:only-of-type {\n",
       "        vertical-align: middle;\n",
       "    }\n",
       "\n",
       "    .dataframe tbody tr th {\n",
       "        vertical-align: top;\n",
       "    }\n",
       "\n",
       "    .dataframe thead th {\n",
       "        text-align: right;\n",
       "    }\n",
       "</style>\n",
       "<table border=\"1\" class=\"dataframe\">\n",
       "  <thead>\n",
       "    <tr style=\"text-align: right;\">\n",
       "      <th></th>\n",
       "      <th>Arrival Count</th>\n",
       "    </tr>\n",
       "  </thead>\n",
       "  <tbody>\n",
       "    <tr>\n",
       "      <th>0</th>\n",
       "      <td>1.0</td>\n",
       "    </tr>\n",
       "    <tr>\n",
       "      <th>1</th>\n",
       "      <td>0.0</td>\n",
       "    </tr>\n",
       "    <tr>\n",
       "      <th>2</th>\n",
       "      <td>0.0</td>\n",
       "    </tr>\n",
       "    <tr>\n",
       "      <th>3</th>\n",
       "      <td>1.0</td>\n",
       "    </tr>\n",
       "    <tr>\n",
       "      <th>4</th>\n",
       "      <td>88.0</td>\n",
       "    </tr>\n",
       "    <tr>\n",
       "      <th>5</th>\n",
       "      <td>177.0</td>\n",
       "    </tr>\n",
       "    <tr>\n",
       "      <th>6</th>\n",
       "      <td>168.0</td>\n",
       "    </tr>\n",
       "    <tr>\n",
       "      <th>7</th>\n",
       "      <td>222.0</td>\n",
       "    </tr>\n",
       "    <tr>\n",
       "      <th>8</th>\n",
       "      <td>179.0</td>\n",
       "    </tr>\n",
       "    <tr>\n",
       "      <th>9</th>\n",
       "      <td>177.0</td>\n",
       "    </tr>\n",
       "    <tr>\n",
       "      <th>10</th>\n",
       "      <td>191.0</td>\n",
       "    </tr>\n",
       "    <tr>\n",
       "      <th>11</th>\n",
       "      <td>168.0</td>\n",
       "    </tr>\n",
       "    <tr>\n",
       "      <th>12</th>\n",
       "      <td>151.0</td>\n",
       "    </tr>\n",
       "    <tr>\n",
       "      <th>13</th>\n",
       "      <td>156.0</td>\n",
       "    </tr>\n",
       "    <tr>\n",
       "      <th>14</th>\n",
       "      <td>154.0</td>\n",
       "    </tr>\n",
       "    <tr>\n",
       "      <th>15</th>\n",
       "      <td>161.0</td>\n",
       "    </tr>\n",
       "    <tr>\n",
       "      <th>16</th>\n",
       "      <td>160.0</td>\n",
       "    </tr>\n",
       "    <tr>\n",
       "      <th>17</th>\n",
       "      <td>154.0</td>\n",
       "    </tr>\n",
       "    <tr>\n",
       "      <th>18</th>\n",
       "      <td>159.0</td>\n",
       "    </tr>\n",
       "    <tr>\n",
       "      <th>19</th>\n",
       "      <td>142.0</td>\n",
       "    </tr>\n",
       "    <tr>\n",
       "      <th>20</th>\n",
       "      <td>145.0</td>\n",
       "    </tr>\n",
       "    <tr>\n",
       "      <th>21</th>\n",
       "      <td>143.0</td>\n",
       "    </tr>\n",
       "    <tr>\n",
       "      <th>22</th>\n",
       "      <td>142.0</td>\n",
       "    </tr>\n",
       "    <tr>\n",
       "      <th>23</th>\n",
       "      <td>133.0</td>\n",
       "    </tr>\n",
       "    <tr>\n",
       "      <th>24</th>\n",
       "      <td>168.0</td>\n",
       "    </tr>\n",
       "    <tr>\n",
       "      <th>25</th>\n",
       "      <td>162.0</td>\n",
       "    </tr>\n",
       "    <tr>\n",
       "      <th>26</th>\n",
       "      <td>123.0</td>\n",
       "    </tr>\n",
       "    <tr>\n",
       "      <th>27</th>\n",
       "      <td>138.0</td>\n",
       "    </tr>\n",
       "    <tr>\n",
       "      <th>28</th>\n",
       "      <td>149.0</td>\n",
       "    </tr>\n",
       "    <tr>\n",
       "      <th>29</th>\n",
       "      <td>121.0</td>\n",
       "    </tr>\n",
       "    <tr>\n",
       "      <th>30</th>\n",
       "      <td>117.0</td>\n",
       "    </tr>\n",
       "    <tr>\n",
       "      <th>31</th>\n",
       "      <td>96.0</td>\n",
       "    </tr>\n",
       "    <tr>\n",
       "      <th>32</th>\n",
       "      <td>102.0</td>\n",
       "    </tr>\n",
       "    <tr>\n",
       "      <th>33</th>\n",
       "      <td>66.0</td>\n",
       "    </tr>\n",
       "    <tr>\n",
       "      <th>34</th>\n",
       "      <td>78.0</td>\n",
       "    </tr>\n",
       "    <tr>\n",
       "      <th>35</th>\n",
       "      <td>75.0</td>\n",
       "    </tr>\n",
       "    <tr>\n",
       "      <th>36</th>\n",
       "      <td>72.0</td>\n",
       "    </tr>\n",
       "    <tr>\n",
       "      <th>37</th>\n",
       "      <td>89.0</td>\n",
       "    </tr>\n",
       "    <tr>\n",
       "      <th>38</th>\n",
       "      <td>91.0</td>\n",
       "    </tr>\n",
       "    <tr>\n",
       "      <th>39</th>\n",
       "      <td>70.0</td>\n",
       "    </tr>\n",
       "    <tr>\n",
       "      <th>40</th>\n",
       "      <td>54.0</td>\n",
       "    </tr>\n",
       "    <tr>\n",
       "      <th>41</th>\n",
       "      <td>55.0</td>\n",
       "    </tr>\n",
       "    <tr>\n",
       "      <th>42</th>\n",
       "      <td>60.0</td>\n",
       "    </tr>\n",
       "    <tr>\n",
       "      <th>43</th>\n",
       "      <td>67.0</td>\n",
       "    </tr>\n",
       "    <tr>\n",
       "      <th>44</th>\n",
       "      <td>74.0</td>\n",
       "    </tr>\n",
       "    <tr>\n",
       "      <th>45</th>\n",
       "      <td>78.0</td>\n",
       "    </tr>\n",
       "    <tr>\n",
       "      <th>46</th>\n",
       "      <td>64.0</td>\n",
       "    </tr>\n",
       "    <tr>\n",
       "      <th>47</th>\n",
       "      <td>49.0</td>\n",
       "    </tr>\n",
       "    <tr>\n",
       "      <th>48</th>\n",
       "      <td>44.0</td>\n",
       "    </tr>\n",
       "  </tbody>\n",
       "</table>\n",
       "</div>"
      ],
      "text/plain": [
       "    Arrival Count\n",
       "0             1.0\n",
       "1             0.0\n",
       "2             0.0\n",
       "3             1.0\n",
       "4            88.0\n",
       "5           177.0\n",
       "6           168.0\n",
       "7           222.0\n",
       "8           179.0\n",
       "9           177.0\n",
       "10          191.0\n",
       "11          168.0\n",
       "12          151.0\n",
       "13          156.0\n",
       "14          154.0\n",
       "15          161.0\n",
       "16          160.0\n",
       "17          154.0\n",
       "18          159.0\n",
       "19          142.0\n",
       "20          145.0\n",
       "21          143.0\n",
       "22          142.0\n",
       "23          133.0\n",
       "24          168.0\n",
       "25          162.0\n",
       "26          123.0\n",
       "27          138.0\n",
       "28          149.0\n",
       "29          121.0\n",
       "30          117.0\n",
       "31           96.0\n",
       "32          102.0\n",
       "33           66.0\n",
       "34           78.0\n",
       "35           75.0\n",
       "36           72.0\n",
       "37           89.0\n",
       "38           91.0\n",
       "39           70.0\n",
       "40           54.0\n",
       "41           55.0\n",
       "42           60.0\n",
       "43           67.0\n",
       "44           74.0\n",
       "45           78.0\n",
       "46           64.0\n",
       "47           49.0\n",
       "48           44.0"
      ]
     },
     "execution_count": 108,
     "metadata": {},
     "output_type": "execute_result"
    }
   ],
   "source": [
    "new_dates2 = pd.read_excel(\"HFOCC_Dates_Converted.xlsx\")\n",
    "new_dates2 = new_dates2.filter([\"Arrival Count\"])\n",
    "new_dates2 = new_dates2.iloc[0:49,:]\n",
    "new_dates2"
   ]
  },
  {
   "cell_type": "markdown",
   "id": "9b198547",
   "metadata": {},
   "source": [
    "### Discrete vs. Continuous"
   ]
  },
  {
   "cell_type": "markdown",
   "id": "d4b83acb",
   "metadata": {},
   "source": [
    "#### The dates portion of the data is discrete because a date can not be split into multiple objects. Therefore one date reperesents one object, so the data is discrete and not continuous. "
   ]
  },
  {
   "cell_type": "markdown",
   "id": "26d66513",
   "metadata": {},
   "source": [
    "### Check for Homogeneity"
   ]
  },
  {
   "cell_type": "code",
   "execution_count": 109,
   "id": "2551ce7a",
   "metadata": {
    "scrolled": true
   },
   "outputs": [
    {
     "data": {
      "image/png": "[encoded data removed]",
      "text/plain": [
       "<Figure size 432x288 with 1 Axes>"
      ]
     },
     "metadata": {
      "needs_background": "light"
     },
     "output_type": "display_data"
    }
   ],
   "source": [
    "sns.histplot(new_dates)\n",
    "plt.show()"
   ]
  },
  {
   "cell_type": "markdown",
   "id": "535b465e",
   "metadata": {},
   "source": [
    "#### Follows one distribution, therefore the data is homogenous"
   ]
  },
  {
   "cell_type": "markdown",
   "id": "18366221",
   "metadata": {},
   "source": [
    "### Check for Stationarity"
   ]
  },
  {
   "cell_type": "code",
   "execution_count": 110,
   "id": "04511159",
   "metadata": {},
   "outputs": [
    {
     "data": {
      "image/png": "[encoded data removed]",
      "text/plain": [
       "<Figure size 432x288 with 1 Axes>"
      ]
     },
     "metadata": {
      "needs_background": "light"
     },
     "output_type": "display_data"
    }
   ],
   "source": [
    "plt.plot(new_dates2)\n",
    "plt.show()"
   ]
  },
  {
   "cell_type": "markdown",
   "id": "3349c707",
   "metadata": {},
   "source": [
    "#### Even though this is not totally stationary, our team expected the data on aircraft dates to decrease over time. This is because the demand for supplies in Haiti decreased as Haiti recovered from the earthquake. The sudden spike is also explained by the large amount of flights that came in to help right after the earthquake struck Haiti. "
   ]
  },
  {
   "cell_type": "markdown",
   "id": "bc63bc74",
   "metadata": {},
   "source": [
    "### Check for Independence"
   ]
  },
  {
   "cell_type": "code",
   "execution_count": 111,
   "id": "8aa660c7",
   "metadata": {},
   "outputs": [],
   "source": [
    "dates_np = new_dates2['Arrival Count'].values"
   ]
  },
  {
   "cell_type": "code",
   "execution_count": 112,
   "id": "6cd804d0",
   "metadata": {},
   "outputs": [],
   "source": [
    "def turning_points_test(x):\n",
    "    dx = np.diff(x)\n",
    "    return np.sum(dx[1:] * dx[:-1] < 0)"
   ]
  },
  {
   "cell_type": "code",
   "execution_count": 113,
   "id": "f502602d",
   "metadata": {},
   "outputs": [
    {
     "data": {
      "text/plain": [
       "25"
      ]
     },
     "execution_count": 113,
     "metadata": {},
     "output_type": "execute_result"
    }
   ],
   "source": [
    "turns_dates = turning_points_test(dates_np)\n",
    "turns_dates"
   ]
  },
  {
   "cell_type": "markdown",
   "id": "fb122656",
   "metadata": {},
   "source": [
    "#### Mean"
   ]
  },
  {
   "cell_type": "code",
   "execution_count": 114,
   "id": "7bd713a9",
   "metadata": {},
   "outputs": [
    {
     "data": {
      "text/plain": [
       "31.333333333333332"
      ]
     },
     "execution_count": 114,
     "metadata": {},
     "output_type": "execute_result"
    }
   ],
   "source": [
    "Mean_Dates = ((2*len(dates_np))-4) / 3\n",
    "Mean_Dates"
   ]
  },
  {
   "cell_type": "markdown",
   "id": "f15312d2",
   "metadata": {},
   "source": [
    "#### Standard Deviation"
   ]
  },
  {
   "cell_type": "code",
   "execution_count": 115,
   "id": "1fcea3b6",
   "metadata": {},
   "outputs": [
    {
     "data": {
      "text/plain": [
       "8.38888888888889"
      ]
     },
     "execution_count": 115,
     "metadata": {},
     "output_type": "execute_result"
    }
   ],
   "source": [
    "Sigma_Dates = ((16*len(dates_np))-29) / 90\n",
    "Sigma_Dates"
   ]
  },
  {
   "cell_type": "markdown",
   "id": "aa836795",
   "metadata": {},
   "source": [
    "#### Test Statistic"
   ]
  },
  {
   "cell_type": "code",
   "execution_count": 116,
   "id": "3ef84474",
   "metadata": {},
   "outputs": [
    {
     "data": {
      "text/plain": [
       "-2.1866542830640565"
      ]
     },
     "execution_count": 116,
     "metadata": {},
     "output_type": "execute_result"
    }
   ],
   "source": [
    "test_stat_date = (turns_dates - Mean_Dates) / math.sqrt(Sigma_Dates)\n",
    "test_stat_date"
   ]
  },
  {
   "cell_type": "markdown",
   "id": "c83bdac8",
   "metadata": {},
   "source": [
    "### Conclusion"
   ]
  },
  {
   "cell_type": "code",
   "execution_count": 117,
   "id": "f01d9bf5",
   "metadata": {},
   "outputs": [
    {
     "name": "stdout",
     "output_type": "stream",
     "text": [
      "Reject the null hypothesis that the data is independent\n"
     ]
    }
   ],
   "source": [
    "if test_stat_date < stats.norm.ppf(0.025) or test_stat_date > stats.norm.ppf(0.975):\n",
    "    print(\"Reject the null hypothesis that the data is independent\")\n",
    "else:\n",
    "    print(\"Fail to reject the null hypothesis that the data is independent\")"
   ]
  },
  {
   "cell_type": "markdown",
   "id": "4f0faaaf",
   "metadata": {},
   "source": [
    "#### The data was considered not independent according to the turning points test. However our team will still treat this data as independent because the test statistic was just outside the interval of critical values. This most likely resulted from real-world factors such as weather, demand, and flight schedules. "
   ]
  },
  {
   "cell_type": "markdown",
   "id": "dea6d45b",
   "metadata": {},
   "source": [
    "### Fitting a Distribution"
   ]
  },
  {
   "cell_type": "code",
   "execution_count": 118,
   "id": "2a26506a",
   "metadata": {},
   "outputs": [
    {
     "data": {
      "text/plain": [
       "['alpha',\n",
       " 'anglit',\n",
       " 'arcsine',\n",
       " 'argus',\n",
       " 'beta',\n",
       " 'betaprime',\n",
       " 'bradford',\n",
       " 'burr',\n",
       " 'burr12',\n",
       " 'cauchy',\n",
       " 'chi',\n",
       " 'chi2',\n",
       " 'cosine',\n",
       " 'crystalball',\n",
       " 'dgamma',\n",
       " 'dweibull',\n",
       " 'erlang',\n",
       " 'expon',\n",
       " 'exponnorm',\n",
       " 'exponpow',\n",
       " 'exponweib',\n",
       " 'f',\n",
       " 'fatiguelife',\n",
       " 'fisk',\n",
       " 'foldcauchy',\n",
       " 'foldnorm',\n",
       " 'gamma',\n",
       " 'gausshyper',\n",
       " 'genexpon',\n",
       " 'genextreme',\n",
       " 'gengamma',\n",
       " 'genhalflogistic',\n",
       " 'genhyperbolic',\n",
       " 'geninvgauss',\n",
       " 'genlogistic',\n",
       " 'gennorm',\n",
       " 'genpareto',\n",
       " 'gilbrat',\n",
       " 'gompertz',\n",
       " 'gumbel_l',\n",
       " 'gumbel_r',\n",
       " 'halfcauchy',\n",
       " 'halfgennorm',\n",
       " 'halflogistic',\n",
       " 'halfnorm',\n",
       " 'hypsecant',\n",
       " 'invgamma',\n",
       " 'invgauss',\n",
       " 'invweibull',\n",
       " 'johnsonsb',\n",
       " 'johnsonsu',\n",
       " 'kappa3',\n",
       " 'kappa4',\n",
       " 'ksone',\n",
       " 'kstwo',\n",
       " 'kstwobign',\n",
       " 'laplace',\n",
       " 'laplace_asymmetric',\n",
       " 'levy',\n",
       " 'levy_l',\n",
       " 'levy_stable',\n",
       " 'loggamma',\n",
       " 'logistic',\n",
       " 'loglaplace',\n",
       " 'lognorm',\n",
       " 'loguniform',\n",
       " 'lomax',\n",
       " 'maxwell',\n",
       " 'mielke',\n",
       " 'moyal',\n",
       " 'nakagami',\n",
       " 'ncf',\n",
       " 'nct',\n",
       " 'ncx2',\n",
       " 'norm',\n",
       " 'norminvgauss',\n",
       " 'pareto',\n",
       " 'pearson3',\n",
       " 'powerlaw',\n",
       " 'powerlognorm',\n",
       " 'powernorm',\n",
       " 'rayleigh',\n",
       " 'rdist',\n",
       " 'recipinvgauss',\n",
       " 'reciprocal',\n",
       " 'rice',\n",
       " 'rv_continuous',\n",
       " 'rv_histogram',\n",
       " 'semicircular',\n",
       " 'skewcauchy',\n",
       " 'skewnorm',\n",
       " 'studentized_range',\n",
       " 't',\n",
       " 'trapezoid',\n",
       " 'trapz',\n",
       " 'triang',\n",
       " 'truncexpon',\n",
       " 'truncnorm',\n",
       " 'tukeylambda',\n",
       " 'uniform',\n",
       " 'vonmises',\n",
       " 'vonmises_line',\n",
       " 'wald',\n",
       " 'weibull_max',\n",
       " 'weibull_min',\n",
       " 'wrapcauchy']"
      ]
     },
     "execution_count": 118,
     "metadata": {},
     "output_type": "execute_result"
    }
   ],
   "source": [
    "get_distributions()"
   ]
  },
  {
   "cell_type": "code",
   "execution_count": 119,
   "id": "baf5f2be",
   "metadata": {
    "scrolled": true
   },
   "outputs": [
    {
     "data": {
      "text/html": [
       "<div>\n",
       "<style scoped>\n",
       "    .dataframe tbody tr th:only-of-type {\n",
       "        vertical-align: middle;\n",
       "    }\n",
       "\n",
       "    .dataframe tbody tr th {\n",
       "        vertical-align: top;\n",
       "    }\n",
       "\n",
       "    .dataframe thead th {\n",
       "        text-align: right;\n",
       "    }\n",
       "</style>\n",
       "<table border=\"1\" class=\"dataframe\">\n",
       "  <thead>\n",
       "    <tr style=\"text-align: right;\">\n",
       "      <th></th>\n",
       "      <th>sumsquare_error</th>\n",
       "      <th>aic</th>\n",
       "      <th>bic</th>\n",
       "      <th>kl_div</th>\n",
       "    </tr>\n",
       "  </thead>\n",
       "  <tbody>\n",
       "    <tr>\n",
       "      <th>gamma</th>\n",
       "      <td>0.061297</td>\n",
       "      <td>842.012330</td>\n",
       "      <td>-61880.790411</td>\n",
       "      <td>inf</td>\n",
       "    </tr>\n",
       "    <tr>\n",
       "      <th>norm</th>\n",
       "      <td>0.064324</td>\n",
       "      <td>822.775708</td>\n",
       "      <td>-61627.430223</td>\n",
       "      <td>inf</td>\n",
       "    </tr>\n",
       "    <tr>\n",
       "      <th>uniform</th>\n",
       "      <td>0.066938</td>\n",
       "      <td>778.240202</td>\n",
       "      <td>-61411.002362</td>\n",
       "      <td>inf</td>\n",
       "    </tr>\n",
       "    <tr>\n",
       "      <th>expon</th>\n",
       "      <td>0.076818</td>\n",
       "      <td>840.695410</td>\n",
       "      <td>-60662.871158</td>\n",
       "      <td>inf</td>\n",
       "    </tr>\n",
       "    <tr>\n",
       "      <th>alpha</th>\n",
       "      <td>0.281265</td>\n",
       "      <td>1078.213657</td>\n",
       "      <td>-53601.739846</td>\n",
       "      <td>inf</td>\n",
       "    </tr>\n",
       "  </tbody>\n",
       "</table>\n",
       "</div>"
      ],
      "text/plain": [
       "         sumsquare_error          aic           bic  kl_div\n",
       "gamma           0.061297   842.012330 -61880.790411     inf\n",
       "norm            0.064324   822.775708 -61627.430223     inf\n",
       "uniform         0.066938   778.240202 -61411.002362     inf\n",
       "expon           0.076818   840.695410 -60662.871158     inf\n",
       "alpha           0.281265  1078.213657 -53601.739846     inf"
      ]
     },
     "execution_count": 119,
     "metadata": {},
     "output_type": "execute_result"
    },
    {
     "data": {
      "image/png": "[encoded data removed]",
      "text/plain": [
       "<Figure size 432x288 with 1 Axes>"
      ]
     },
     "metadata": {
      "needs_background": "light"
     },
     "output_type": "display_data"
    }
   ],
   "source": [
    "f_date = Fitter(new_dates,\n",
    "           distributions=[\"gamma\",\n",
    "                         \"expon\",\n",
    "                         \"norm\",\n",
    "                         \"alpha\",\n",
    "                         \"uniform\"])\n",
    "f_date.fit()\n",
    "f_date.summary()"
   ]
  },
  {
   "cell_type": "code",
   "execution_count": 120,
   "id": "2872e03f",
   "metadata": {},
   "outputs": [
    {
     "data": {
      "text/plain": [
       "{'gamma': {'a': 2.996579249717062,\n",
       "  'loc': -0.14065366983646216,\n",
       "  'scale': 7.276766177056913}}"
      ]
     },
     "execution_count": 120,
     "metadata": {},
     "output_type": "execute_result"
    }
   ],
   "source": [
    "f_date.get_best(method='sumsquare_error')"
   ]
  },
  {
   "cell_type": "markdown",
   "id": "75a03e73",
   "metadata": {},
   "source": [
    "#### Even though the data was discrete, we have fit the following continuous distributions because there were a large amount of observations in the data. Fitting a discrete distribution to a dataset with a large amount of observations may increase the bias in our model. Therefore we used the continuous distributions to lower the bias in our model. The python function, Fitter, identified the gamma distribution with the parameters listed above as the optimal distribution for the aircraft arrival date data. This also makes sense because the gamma distribution is great for arrival times because it can not model time before zero. "
   ]
  },
  {
   "cell_type": "markdown",
   "id": "62256c52",
   "metadata": {},
   "source": [
    "## Analysis of Ground Time Data"
   ]
  },
  {
   "cell_type": "markdown",
   "id": "4595f083",
   "metadata": {},
   "source": [
    "### Wide-Body Aircraft"
   ]
  },
  {
   "cell_type": "markdown",
   "id": "30c23b81",
   "metadata": {},
   "source": [
    "### Continous or Discrete?"
   ]
  },
  {
   "cell_type": "code",
   "execution_count": 121,
   "id": "5c886044",
   "metadata": {},
   "outputs": [
    {
     "data": {
      "text/plain": [
       "5       2.722\n",
       "24      2.476\n",
       "46      2.303\n",
       "84      2.220\n",
       "85      2.869\n",
       "        ...  \n",
       "5325    1.943\n",
       "5407    1.890\n",
       "5413    3.153\n",
       "5414    3.401\n",
       "5415    2.208\n",
       "Name: Ground Time (Hrs), Length: 387, dtype: float64"
      ]
     },
     "execution_count": 121,
     "metadata": {},
     "output_type": "execute_result"
    }
   ],
   "source": [
    "ground_time_wide = plane_wide['Ground Time (Hrs)']\n",
    "ground_time_wide"
   ]
  },
  {
   "cell_type": "code",
   "execution_count": 122,
   "id": "cde6d6f2",
   "metadata": {},
   "outputs": [
    {
     "data": {
      "text/plain": [
       "dtype('float64')"
      ]
     },
     "execution_count": 122,
     "metadata": {},
     "output_type": "execute_result"
    }
   ],
   "source": [
    "ground_time_wide.dtypes"
   ]
  },
  {
   "cell_type": "markdown",
   "id": "75e4e5de",
   "metadata": {},
   "source": [
    "#### The data in this lists the ground time for every wide bodied aircraft that landed at Port-au-Prince airport. As seen above python has listed the ground time data as a float object. Further for the ground time data, time is always modeled as a continuous variable. Therefore it is safe to assume that the ground time column will follow a continous distribution. The ground time data for narrow and small body aircraft is also continuous. "
   ]
  },
  {
   "cell_type": "markdown",
   "id": "09617f9a",
   "metadata": {},
   "source": [
    "### Check for Homogeneity"
   ]
  },
  {
   "cell_type": "code",
   "execution_count": 123,
   "id": "f2cdab74",
   "metadata": {},
   "outputs": [
    {
     "data": {
      "text/plain": [
       "array([2.722, 2.476, 2.303, 2.22 , 2.869, 1.995, 1.658, 2.518, 2.876,\n",
       "       1.882, 3.972, 4.707, 1.509, 1.674, 3.255, 1.797, 2.962, 3.107,\n",
       "       2.733, 2.224, 2.218, 1.758, 2.444, 2.   , 3.586, 2.422, 2.692,\n",
       "       2.401, 2.973, 3.015, 4.352, 1.659, 2.72 , 3.556, 3.715, 1.689,\n",
       "       1.945, 2.593, 2.34 , 1.249, 3.473, 1.842, 1.506, 2.157, 2.298,\n",
       "       2.634, 2.558, 1.756, 1.519, 2.149, 2.309, 1.674, 2.544, 2.285,\n",
       "       3.029, 3.518, 3.204, 1.823, 2.058, 3.549, 4.432, 3.141, 2.426,\n",
       "       3.115, 2.274, 2.449, 1.35 , 2.004, 2.902, 2.499, 1.414, 3.241,\n",
       "       2.453, 2.383, 2.137, 3.447, 2.477, 2.423, 3.614, 3.686, 2.638,\n",
       "       4.074, 2.52 , 2.832, 3.207, 2.988, 4.274, 1.958, 3.596, 3.619,\n",
       "       3.427, 2.233, 2.565, 2.786, 3.002, 2.759, 3.333, 2.942, 2.789,\n",
       "       2.101, 2.844, 3.074, 3.283, 3.077, 2.89 , 2.876, 3.707, 2.805,\n",
       "       3.381, 1.815, 3.394, 3.216, 3.224, 3.776, 3.219, 1.804, 1.727,\n",
       "       1.514, 3.437, 3.364, 2.338, 1.904, 2.231, 2.501, 3.661, 3.072,\n",
       "       1.598, 1.796, 3.286, 1.97 , 2.517, 2.991, 2.188, 2.42 , 3.288,\n",
       "       2.593, 1.856, 3.128, 1.883, 2.801, 2.653, 2.692, 2.722, 2.516,\n",
       "       3.246, 1.703, 3.265, 3.221, 1.996, 3.168, 2.634, 2.348, 3.127,\n",
       "       2.121, 1.877, 2.804, 2.01 , 2.116, 2.531, 4.504, 2.581, 3.786,\n",
       "       3.262, 2.616, 2.066, 2.583, 2.007, 2.228, 1.375, 2.079, 2.79 ,\n",
       "       3.099, 2.885, 1.331, 1.617, 2.156, 2.181, 2.916, 3.679, 3.8  ,\n",
       "       2.813, 1.688, 3.34 , 1.555, 1.574, 1.574, 2.367, 4.012, 2.509,\n",
       "       2.949, 3.741, 2.527, 2.565, 3.265, 2.742, 1.61 , 2.063, 1.854,\n",
       "       4.356, 2.619, 2.933, 2.205, 3.467, 2.015, 2.243, 3.885, 2.998,\n",
       "       2.897, 2.832, 1.901, 1.534, 2.787, 2.631, 1.575, 3.305, 3.202,\n",
       "       2.196, 2.374, 3.7  , 3.853, 2.81 , 2.951, 2.93 , 2.29 , 2.975,\n",
       "       3.09 , 4.493, 1.558, 3.008, 2.079, 1.766, 4.076, 3.29 , 3.26 ,\n",
       "       2.705, 2.084, 3.005, 2.775, 3.037, 3.683, 3.588, 3.293, 2.174,\n",
       "       3.206, 3.172, 3.88 , 3.892, 2.894, 3.02 , 2.596, 3.361, 3.373,\n",
       "       2.586, 2.727, 2.522, 2.864, 3.712, 3.074, 4.183, 2.866, 1.923,\n",
       "       3.026, 3.483, 2.566, 3.507, 3.151, 3.014, 1.269, 2.074, 2.437,\n",
       "       2.568, 2.28 , 2.1  , 3.462, 3.349, 3.628, 3.787, 3.133, 2.923,\n",
       "       2.943, 4.545, 3.437, 2.521, 2.188, 2.606, 2.623, 1.702, 3.304,\n",
       "       3.702, 3.183, 3.081, 2.963, 2.038, 3.04 , 1.671, 1.843, 1.748,\n",
       "       2.676, 3.097, 1.623, 2.225, 2.911, 2.668, 3.244, 2.77 , 2.734,\n",
       "       3.813, 2.634, 2.013, 3.25 , 2.985, 2.325, 2.515, 3.018, 3.195,\n",
       "       3.089, 1.068, 3.501, 1.47 , 1.898, 2.306, 3.062, 2.738, 3.68 ,\n",
       "       2.757, 4.193, 3.098, 3.836, 3.344, 2.588, 3.785, 3.554, 2.997,\n",
       "       1.802, 1.249, 2.566, 2.613, 2.891, 1.28 , 3.306, 2.811, 2.421,\n",
       "       1.743, 2.369, 2.223, 2.406, 2.682, 2.71 , 2.464, 2.396, 2.607,\n",
       "       2.501, 2.727, 3.064, 2.334, 3.007, 2.02 , 2.829, 2.149, 2.363,\n",
       "       3.18 , 2.766, 2.191, 2.521, 3.596, 2.479, 2.768, 3.204, 3.1  ,\n",
       "       3.112, 1.636, 2.808, 2.431, 1.623, 1.858, 2.492, 3.652, 2.675,\n",
       "       1.529, 2.919, 1.835, 3.293, 1.943, 1.89 , 3.153, 3.401, 2.208])"
      ]
     },
     "execution_count": 123,
     "metadata": {},
     "output_type": "execute_result"
    }
   ],
   "source": [
    "grnd_time_wide = plane_wide['Ground Time (Hrs)'].values\n",
    "grnd_time_wide"
   ]
  },
  {
   "cell_type": "code",
   "execution_count": 124,
   "id": "02baa29e",
   "metadata": {},
   "outputs": [
    {
     "data": {
      "image/png": "[encoded data removed]",
      "text/plain": [
       "<Figure size 432x288 with 1 Axes>"
      ]
     },
     "metadata": {
      "needs_background": "light"
     },
     "output_type": "display_data"
    }
   ],
   "source": [
    "sns.histplot(grnd_time_wide)\n",
    "plt.show()"
   ]
  },
  {
   "cell_type": "markdown",
   "id": "af321808",
   "metadata": {},
   "source": [
    "#### The data is homogenous because it all follows one distinct distribution"
   ]
  },
  {
   "cell_type": "markdown",
   "id": "6e1fbf23",
   "metadata": {},
   "source": [
    "### Check for Stationarity"
   ]
  },
  {
   "cell_type": "code",
   "execution_count": 125,
   "id": "1946c44e",
   "metadata": {
    "scrolled": true
   },
   "outputs": [
    {
     "data": {
      "image/png": "[encoded data removed]",
      "text/plain": [
       "<Figure size 432x288 with 1 Axes>"
      ]
     },
     "metadata": {
      "needs_background": "light"
     },
     "output_type": "display_data"
    }
   ],
   "source": [
    "plt.plot(grnd_time_wide)\n",
    "plt.show()"
   ]
  },
  {
   "cell_type": "markdown",
   "id": "8728d13e",
   "metadata": {},
   "source": [
    "#### Within the plot above the data does not really trend with time. Meaning it follows a similar pattern throughout the whole plot. Also the data shows a relatively constant variance throughout the plot. There are a quite a few spikes in the data, but they don't seem to occur in any sort of pattern. So these instances can be modeled as outliers in the dataset. Therefore the data for ground time for each aircraft at Port-au-Prince airport is stationary. "
   ]
  },
  {
   "cell_type": "markdown",
   "id": "c8bd21cf",
   "metadata": {},
   "source": [
    "### Check for Independence using a Turning Points Test"
   ]
  },
  {
   "cell_type": "code",
   "execution_count": 126,
   "id": "16e35da8",
   "metadata": {},
   "outputs": [
    {
     "data": {
      "text/plain": [
       "234"
      ]
     },
     "execution_count": 126,
     "metadata": {},
     "output_type": "execute_result"
    }
   ],
   "source": [
    "turns = turning_points_test(grnd_time_wide)\n",
    "turns"
   ]
  },
  {
   "cell_type": "markdown",
   "id": "40fee353",
   "metadata": {},
   "source": [
    "#### Mean "
   ]
  },
  {
   "cell_type": "code",
   "execution_count": 127,
   "id": "3d3f3d82",
   "metadata": {},
   "outputs": [
    {
     "data": {
      "text/plain": [
       "256.6666666666667"
      ]
     },
     "execution_count": 127,
     "metadata": {},
     "output_type": "execute_result"
    }
   ],
   "source": [
    "Mean_R = ((2*len(grnd_time_wide))-4) / 3\n",
    "Mean_R"
   ]
  },
  {
   "cell_type": "markdown",
   "id": "41c19f60",
   "metadata": {},
   "source": [
    "#### Standard Deviation"
   ]
  },
  {
   "cell_type": "code",
   "execution_count": 128,
   "id": "db2bba5b",
   "metadata": {},
   "outputs": [
    {
     "data": {
      "text/plain": [
       "68.47777777777777"
      ]
     },
     "execution_count": 128,
     "metadata": {},
     "output_type": "execute_result"
    }
   ],
   "source": [
    "Sigma_R2 = ((16*len(grnd_time_wide))-29) / 90\n",
    "Sigma_R2"
   ]
  },
  {
   "cell_type": "markdown",
   "id": "98512b90",
   "metadata": {},
   "source": [
    "#### Test Statistic"
   ]
  },
  {
   "cell_type": "code",
   "execution_count": 129,
   "id": "c7ccfef4",
   "metadata": {},
   "outputs": [
    {
     "data": {
      "text/plain": [
       "-2.739131162650811"
      ]
     },
     "execution_count": 129,
     "metadata": {},
     "output_type": "execute_result"
    }
   ],
   "source": [
    "test_stat = (turns - Mean_R) / math.sqrt(Sigma_R2)\n",
    "test_stat"
   ]
  },
  {
   "cell_type": "markdown",
   "id": "e47af1a9",
   "metadata": {},
   "source": [
    "#### H_O : The data is independent \n",
    "#### H_A : The data is not independent"
   ]
  },
  {
   "cell_type": "code",
   "execution_count": 130,
   "id": "1e886abf",
   "metadata": {
    "scrolled": true
   },
   "outputs": [
    {
     "name": "stdout",
     "output_type": "stream",
     "text": [
      "Reject the null hypothesis that the data is independent\n"
     ]
    }
   ],
   "source": [
    "if test_stat < stats.norm.ppf(0.025) or test_stat > stats.norm.ppf(0.975):\n",
    "    print(\"Reject the null hypothesis that the data is independent\")\n",
    "else:\n",
    "    print(\"Fail to reject the null hypothesis that the data is independent\")"
   ]
  },
  {
   "cell_type": "markdown",
   "id": "b06a2ea6",
   "metadata": {},
   "source": [
    "#### In the turning points test we rejected the null hypothesis, meaning the test concluded that the data is not independent. However for small and narrow bodied aircraft the turning points test indicated that the data is independent. A possible reason for this result is that wide body aircraft take longer to off-load than narrow and small body aircraft. "
   ]
  },
  {
   "cell_type": "markdown",
   "id": "b15421b5",
   "metadata": {},
   "source": [
    "### Fitting a Distribution"
   ]
  },
  {
   "cell_type": "code",
   "execution_count": 131,
   "id": "3ed6b831",
   "metadata": {},
   "outputs": [
    {
     "data": {
      "text/plain": [
       "['alpha',\n",
       " 'anglit',\n",
       " 'arcsine',\n",
       " 'argus',\n",
       " 'beta',\n",
       " 'betaprime',\n",
       " 'bradford',\n",
       " 'burr',\n",
       " 'burr12',\n",
       " 'cauchy',\n",
       " 'chi',\n",
       " 'chi2',\n",
       " 'cosine',\n",
       " 'crystalball',\n",
       " 'dgamma',\n",
       " 'dweibull',\n",
       " 'erlang',\n",
       " 'expon',\n",
       " 'exponnorm',\n",
       " 'exponpow',\n",
       " 'exponweib',\n",
       " 'f',\n",
       " 'fatiguelife',\n",
       " 'fisk',\n",
       " 'foldcauchy',\n",
       " 'foldnorm',\n",
       " 'gamma',\n",
       " 'gausshyper',\n",
       " 'genexpon',\n",
       " 'genextreme',\n",
       " 'gengamma',\n",
       " 'genhalflogistic',\n",
       " 'genhyperbolic',\n",
       " 'geninvgauss',\n",
       " 'genlogistic',\n",
       " 'gennorm',\n",
       " 'genpareto',\n",
       " 'gilbrat',\n",
       " 'gompertz',\n",
       " 'gumbel_l',\n",
       " 'gumbel_r',\n",
       " 'halfcauchy',\n",
       " 'halfgennorm',\n",
       " 'halflogistic',\n",
       " 'halfnorm',\n",
       " 'hypsecant',\n",
       " 'invgamma',\n",
       " 'invgauss',\n",
       " 'invweibull',\n",
       " 'johnsonsb',\n",
       " 'johnsonsu',\n",
       " 'kappa3',\n",
       " 'kappa4',\n",
       " 'ksone',\n",
       " 'kstwo',\n",
       " 'kstwobign',\n",
       " 'laplace',\n",
       " 'laplace_asymmetric',\n",
       " 'levy',\n",
       " 'levy_l',\n",
       " 'levy_stable',\n",
       " 'loggamma',\n",
       " 'logistic',\n",
       " 'loglaplace',\n",
       " 'lognorm',\n",
       " 'loguniform',\n",
       " 'lomax',\n",
       " 'maxwell',\n",
       " 'mielke',\n",
       " 'moyal',\n",
       " 'nakagami',\n",
       " 'ncf',\n",
       " 'nct',\n",
       " 'ncx2',\n",
       " 'norm',\n",
       " 'norminvgauss',\n",
       " 'pareto',\n",
       " 'pearson3',\n",
       " 'powerlaw',\n",
       " 'powerlognorm',\n",
       " 'powernorm',\n",
       " 'rayleigh',\n",
       " 'rdist',\n",
       " 'recipinvgauss',\n",
       " 'reciprocal',\n",
       " 'rice',\n",
       " 'rv_continuous',\n",
       " 'rv_histogram',\n",
       " 'semicircular',\n",
       " 'skewcauchy',\n",
       " 'skewnorm',\n",
       " 'studentized_range',\n",
       " 't',\n",
       " 'trapezoid',\n",
       " 'trapz',\n",
       " 'triang',\n",
       " 'truncexpon',\n",
       " 'truncnorm',\n",
       " 'tukeylambda',\n",
       " 'uniform',\n",
       " 'vonmises',\n",
       " 'vonmises_line',\n",
       " 'wald',\n",
       " 'weibull_max',\n",
       " 'weibull_min',\n",
       " 'wrapcauchy']"
      ]
     },
     "execution_count": 131,
     "metadata": {},
     "output_type": "execute_result"
    }
   ],
   "source": [
    "get_distributions()"
   ]
  },
  {
   "cell_type": "code",
   "execution_count": 132,
   "id": "b2c88a4a",
   "metadata": {},
   "outputs": [
    {
     "data": {
      "text/html": [
       "<div>\n",
       "<style scoped>\n",
       "    .dataframe tbody tr th:only-of-type {\n",
       "        vertical-align: middle;\n",
       "    }\n",
       "\n",
       "    .dataframe tbody tr th {\n",
       "        vertical-align: top;\n",
       "    }\n",
       "\n",
       "    .dataframe thead th {\n",
       "        text-align: right;\n",
       "    }\n",
       "</style>\n",
       "<table border=\"1\" class=\"dataframe\">\n",
       "  <thead>\n",
       "    <tr style=\"text-align: right;\">\n",
       "      <th></th>\n",
       "      <th>sumsquare_error</th>\n",
       "      <th>aic</th>\n",
       "      <th>bic</th>\n",
       "      <th>kl_div</th>\n",
       "    </tr>\n",
       "  </thead>\n",
       "  <tbody>\n",
       "    <tr>\n",
       "      <th>weibull_min</th>\n",
       "      <td>1.897320</td>\n",
       "      <td>345.231209</td>\n",
       "      <td>-2040.183874</td>\n",
       "      <td>inf</td>\n",
       "    </tr>\n",
       "    <tr>\n",
       "      <th>norm</th>\n",
       "      <td>1.899710</td>\n",
       "      <td>349.237015</td>\n",
       "      <td>-2045.655091</td>\n",
       "      <td>inf</td>\n",
       "    </tr>\n",
       "    <tr>\n",
       "      <th>beta</th>\n",
       "      <td>1.924939</td>\n",
       "      <td>345.414054</td>\n",
       "      <td>-2028.632597</td>\n",
       "      <td>inf</td>\n",
       "    </tr>\n",
       "    <tr>\n",
       "      <th>lognorm</th>\n",
       "      <td>1.942908</td>\n",
       "      <td>347.080506</td>\n",
       "      <td>-2030.995086</td>\n",
       "      <td>inf</td>\n",
       "    </tr>\n",
       "    <tr>\n",
       "      <th>gamma</th>\n",
       "      <td>1.944865</td>\n",
       "      <td>346.833395</td>\n",
       "      <td>-2030.605649</td>\n",
       "      <td>inf</td>\n",
       "    </tr>\n",
       "  </tbody>\n",
       "</table>\n",
       "</div>"
      ],
      "text/plain": [
       "             sumsquare_error         aic          bic  kl_div\n",
       "weibull_min         1.897320  345.231209 -2040.183874     inf\n",
       "norm                1.899710  349.237015 -2045.655091     inf\n",
       "beta                1.924939  345.414054 -2028.632597     inf\n",
       "lognorm             1.942908  347.080506 -2030.995086     inf\n",
       "gamma               1.944865  346.833395 -2030.605649     inf"
      ]
     },
     "execution_count": 132,
     "metadata": {},
     "output_type": "execute_result"
    },
    {
     "data": {
      "image/png": "[encoded data removed]",
      "text/plain": [
       "<Figure size 432x288 with 1 Axes>"
      ]
     },
     "metadata": {
      "needs_background": "light"
     },
     "output_type": "display_data"
    }
   ],
   "source": [
    "f = Fitter(grnd_time_wide,\n",
    "           distributions=['gamma',\n",
    "                          'lognorm',\n",
    "                          'norm',\n",
    "                          'beta',\n",
    "                          'weibull_min'])\n",
    "f.fit()\n",
    "f.summary()"
   ]
  },
  {
   "cell_type": "code",
   "execution_count": 133,
   "id": "1ba31605",
   "metadata": {
    "scrolled": true
   },
   "outputs": [
    {
     "data": {
      "text/plain": [
       "(0.06232230723027491, -8.507081567581055, 11.18637416518046)"
      ]
     },
     "execution_count": 133,
     "metadata": {},
     "output_type": "execute_result"
    }
   ],
   "source": [
    "f.fitted_param['lognorm']"
   ]
  },
  {
   "cell_type": "markdown",
   "id": "8cab91d5",
   "metadata": {},
   "source": [
    "#### According to fitter the best distribution to model the ground time data is the weibull_min distribution. However that is not a very interpretable distribution. Another distribution that had a very low sum of squared error is the log-normal distribution. The log-normal distribution also can only model positive values. Which is great because ground time should not have any negative values. Therefore the ground time data can be modeled with a mean of -8.5071 hours, a standard deviation of 11.1864 hours, and the last parameter of 0.0623 hours. "
   ]
  },
  {
   "cell_type": "markdown",
   "id": "38123b5e",
   "metadata": {},
   "source": [
    "### Narrow Body Aircraft"
   ]
  },
  {
   "cell_type": "markdown",
   "id": "ae9f366e",
   "metadata": {},
   "source": [
    "### Check for Homogeneity"
   ]
  },
  {
   "cell_type": "code",
   "execution_count": 134,
   "id": "7762b1e8",
   "metadata": {},
   "outputs": [
    {
     "data": {
      "text/plain": [
       "array([1.872, 1.454, 1.178, ..., 1.668, 1.237, 1.703])"
      ]
     },
     "execution_count": 134,
     "metadata": {},
     "output_type": "execute_result"
    }
   ],
   "source": [
    "grnd_time_narrow = plane_narrow['Ground Time (Hrs)'].values\n",
    "grnd_time_narrow"
   ]
  },
  {
   "cell_type": "code",
   "execution_count": 135,
   "id": "922a4695",
   "metadata": {},
   "outputs": [
    {
     "data": {
      "image/png": "[encoded data removed]",
      "text/plain": [
       "<Figure size 432x288 with 1 Axes>"
      ]
     },
     "metadata": {
      "needs_background": "light"
     },
     "output_type": "display_data"
    }
   ],
   "source": [
    "sns.histplot(grnd_time_narrow)\n",
    "plt.show()"
   ]
  },
  {
   "cell_type": "markdown",
   "id": "90a12a2a",
   "metadata": {},
   "source": [
    "#### The data is homogenous because it all follows one distinct distribution"
   ]
  },
  {
   "cell_type": "markdown",
   "id": "20f42be3",
   "metadata": {},
   "source": [
    "### Check for Stationarity"
   ]
  },
  {
   "cell_type": "code",
   "execution_count": 136,
   "id": "c628b338",
   "metadata": {},
   "outputs": [
    {
     "data": {
      "image/png": "[encoded data removed]",
      "text/plain": [
       "<Figure size 432x288 with 1 Axes>"
      ]
     },
     "metadata": {
      "needs_background": "light"
     },
     "output_type": "display_data"
    }
   ],
   "source": [
    "plt.plot(grnd_time_narrow)\n",
    "plt.show()"
   ]
  },
  {
   "cell_type": "markdown",
   "id": "91049fa8",
   "metadata": {},
   "source": [
    "#### Within the plot above the data does not really trend with time. Meaning it follows a similar pattern throughout the whole plot. Also the data shows a relatively constant variance throughout the plot. There are a quite a few spikes in the data, but they don't seem to occur in any sort of pattern. So these instances can be modeled as outliers in the dataset. Therefore the data for ground time for each aircraft at Port-au-Prince airport is stationary. "
   ]
  },
  {
   "cell_type": "markdown",
   "id": "3acb22ac",
   "metadata": {},
   "source": [
    "### Check for Independence"
   ]
  },
  {
   "cell_type": "code",
   "execution_count": 137,
   "id": "f1998c3e",
   "metadata": {},
   "outputs": [
    {
     "data": {
      "text/plain": [
       "2511"
      ]
     },
     "execution_count": 137,
     "metadata": {},
     "output_type": "execute_result"
    }
   ],
   "source": [
    "turns2 = turning_points_test(grnd_time_narrow)\n",
    "turns2"
   ]
  },
  {
   "cell_type": "markdown",
   "id": "aee46662",
   "metadata": {},
   "source": [
    "#### Mean"
   ]
  },
  {
   "cell_type": "code",
   "execution_count": 138,
   "id": "44fd91a7",
   "metadata": {},
   "outputs": [
    {
     "data": {
      "text/plain": [
       "2525.3333333333335"
      ]
     },
     "execution_count": 138,
     "metadata": {},
     "output_type": "execute_result"
    }
   ],
   "source": [
    "Mean_R2 = ((2*len(grnd_time_narrow))-4) / 3\n",
    "Mean_R2"
   ]
  },
  {
   "cell_type": "markdown",
   "id": "230e45d3",
   "metadata": {},
   "source": [
    "#### Standard Deviation"
   ]
  },
  {
   "cell_type": "code",
   "execution_count": 139,
   "id": "3e0edfa4",
   "metadata": {},
   "outputs": [
    {
     "data": {
      "text/plain": [
       "673.4555555555555"
      ]
     },
     "execution_count": 139,
     "metadata": {},
     "output_type": "execute_result"
    }
   ],
   "source": [
    "Sigma_R22 = ((16*len(grnd_time_narrow))-29) / 90\n",
    "Sigma_R22"
   ]
  },
  {
   "cell_type": "markdown",
   "id": "f9d087f3",
   "metadata": {},
   "source": [
    "#### Test Statistic"
   ]
  },
  {
   "cell_type": "code",
   "execution_count": 140,
   "id": "330aa528",
   "metadata": {},
   "outputs": [
    {
     "data": {
      "text/plain": [
       "-0.552322494199532"
      ]
     },
     "execution_count": 140,
     "metadata": {},
     "output_type": "execute_result"
    }
   ],
   "source": [
    "test_stat2 = (turns2 - Mean_R2) / math.sqrt(Sigma_R22)\n",
    "test_stat2"
   ]
  },
  {
   "cell_type": "markdown",
   "id": "0f8c5a83",
   "metadata": {},
   "source": [
    "#### Conclusion"
   ]
  },
  {
   "cell_type": "code",
   "execution_count": 141,
   "id": "02993dde",
   "metadata": {},
   "outputs": [
    {
     "name": "stdout",
     "output_type": "stream",
     "text": [
      "Fail to reject the null hypothesis that the data is independent\n"
     ]
    }
   ],
   "source": [
    "if test_stat2 < stats.norm.ppf(0.025) or test_stat2 > stats.norm.ppf(0.975):\n",
    "    print(\"Reject the null hypothesis that the data is independent\")\n",
    "else:\n",
    "    print(\"Fail to reject the null hypothesis that the data is independent\")"
   ]
  },
  {
   "cell_type": "markdown",
   "id": "00830711",
   "metadata": {},
   "source": [
    "#### In the turning points test we failed to reject the null hypothesis, meaning that we concluded the data is independent."
   ]
  },
  {
   "cell_type": "markdown",
   "id": "25608665",
   "metadata": {},
   "source": [
    "### Fitting a Distribution"
   ]
  },
  {
   "cell_type": "code",
   "execution_count": 142,
   "id": "35a08a80",
   "metadata": {},
   "outputs": [
    {
     "data": {
      "text/html": [
       "<div>\n",
       "<style scoped>\n",
       "    .dataframe tbody tr th:only-of-type {\n",
       "        vertical-align: middle;\n",
       "    }\n",
       "\n",
       "    .dataframe tbody tr th {\n",
       "        vertical-align: top;\n",
       "    }\n",
       "\n",
       "    .dataframe thead th {\n",
       "        text-align: right;\n",
       "    }\n",
       "</style>\n",
       "<table border=\"1\" class=\"dataframe\">\n",
       "  <thead>\n",
       "    <tr style=\"text-align: right;\">\n",
       "      <th></th>\n",
       "      <th>sumsquare_error</th>\n",
       "      <th>aic</th>\n",
       "      <th>bic</th>\n",
       "      <th>kl_div</th>\n",
       "    </tr>\n",
       "  </thead>\n",
       "  <tbody>\n",
       "    <tr>\n",
       "      <th>gamma</th>\n",
       "      <td>0.504459</td>\n",
       "      <td>362.410846</td>\n",
       "      <td>-33798.721399</td>\n",
       "      <td>inf</td>\n",
       "    </tr>\n",
       "    <tr>\n",
       "      <th>lognorm</th>\n",
       "      <td>0.515800</td>\n",
       "      <td>358.009618</td>\n",
       "      <td>-33714.457850</td>\n",
       "      <td>inf</td>\n",
       "    </tr>\n",
       "    <tr>\n",
       "      <th>beta</th>\n",
       "      <td>0.523099</td>\n",
       "      <td>371.517423</td>\n",
       "      <td>-33652.957243</td>\n",
       "      <td>inf</td>\n",
       "    </tr>\n",
       "    <tr>\n",
       "      <th>weibull_min</th>\n",
       "      <td>0.965688</td>\n",
       "      <td>363.670531</td>\n",
       "      <td>-31337.665015</td>\n",
       "      <td>inf</td>\n",
       "    </tr>\n",
       "    <tr>\n",
       "      <th>norm</th>\n",
       "      <td>1.253670</td>\n",
       "      <td>358.448883</td>\n",
       "      <td>-30356.753574</td>\n",
       "      <td>inf</td>\n",
       "    </tr>\n",
       "  </tbody>\n",
       "</table>\n",
       "</div>"
      ],
      "text/plain": [
       "             sumsquare_error         aic           bic  kl_div\n",
       "gamma               0.504459  362.410846 -33798.721399     inf\n",
       "lognorm             0.515800  358.009618 -33714.457850     inf\n",
       "beta                0.523099  371.517423 -33652.957243     inf\n",
       "weibull_min         0.965688  363.670531 -31337.665015     inf\n",
       "norm                1.253670  358.448883 -30356.753574     inf"
      ]
     },
     "execution_count": 142,
     "metadata": {},
     "output_type": "execute_result"
    },
    {
     "data": {
      "image/png": "[encoded data removed]",
      "text/plain": [
       "<Figure size 432x288 with 1 Axes>"
      ]
     },
     "metadata": {
      "needs_background": "light"
     },
     "output_type": "display_data"
    }
   ],
   "source": [
    "f2 = Fitter(grnd_time_narrow,\n",
    "           distributions=['gamma',\n",
    "                          'lognorm',\n",
    "                          'norm',\n",
    "                          'beta',\n",
    "                          'weibull_min'])\n",
    "f2.fit()\n",
    "f2.summary()"
   ]
  },
  {
   "cell_type": "code",
   "execution_count": 143,
   "id": "621c29f3",
   "metadata": {},
   "outputs": [
    {
     "data": {
      "text/plain": [
       "{'gamma': {'a': 13.889743429003904,\n",
       "  'loc': -0.0437804076303738,\n",
       "  'scale': 0.11053998207885424}}"
      ]
     },
     "execution_count": 143,
     "metadata": {},
     "output_type": "execute_result"
    }
   ],
   "source": [
    "f2.get_best(method = 'sumsquare_error')"
   ]
  },
  {
   "cell_type": "markdown",
   "id": "b5f03c7c",
   "metadata": {},
   "source": [
    "#### The gamma distribution was identified as the best distribution for this dataset. Also it can only model positive values like the log-normal distribution. Which is great because ground time should not have any negative values. The gamma distribution is also great for modeling time inbetween events, and the ground time data is the time between landing and taking off. Therefore the ground time data for narrow aircraft can be modeled with a mean of -0.0438 hours, a standard deviation of 0.1105 hours, and the last parameter of 13.8897 hours. "
   ]
  },
  {
   "cell_type": "markdown",
   "id": "939f961b",
   "metadata": {},
   "source": [
    "### Small Body Aircraft"
   ]
  },
  {
   "cell_type": "markdown",
   "id": "602fb9cc",
   "metadata": {},
   "source": [
    "### Check for Homogeneity"
   ]
  },
  {
   "cell_type": "code",
   "execution_count": 144,
   "id": "16a7f38e",
   "metadata": {},
   "outputs": [
    {
     "data": {
      "text/plain": [
       "array([0.748, 1.265, 1.208, ..., 1.181, 1.292, 0.771])"
      ]
     },
     "execution_count": 144,
     "metadata": {},
     "output_type": "execute_result"
    }
   ],
   "source": [
    "grnd_time_small = plane_small['Ground Time (Hrs)'].values\n",
    "grnd_time_small"
   ]
  },
  {
   "cell_type": "code",
   "execution_count": 145,
   "id": "f35de030",
   "metadata": {
    "scrolled": false
   },
   "outputs": [
    {
     "data": {
      "image/png": "[encoded data removed]",
      "text/plain": [
       "<Figure size 432x288 with 1 Axes>"
      ]
     },
     "metadata": {
      "needs_background": "light"
     },
     "output_type": "display_data"
    }
   ],
   "source": [
    "sns.histplot(grnd_time_small)\n",
    "plt.show()"
   ]
  },
  {
   "cell_type": "markdown",
   "id": "86cf7315",
   "metadata": {},
   "source": [
    "#### The data is homogenous because it all follows one distinct distribution"
   ]
  },
  {
   "cell_type": "markdown",
   "id": "eaecec88",
   "metadata": {},
   "source": [
    "### Check for Stationarity"
   ]
  },
  {
   "cell_type": "code",
   "execution_count": 146,
   "id": "776f39fc",
   "metadata": {},
   "outputs": [
    {
     "data": {
      "image/png": "[encoded data removed]",
      "text/plain": [
       "<Figure size 432x288 with 1 Axes>"
      ]
     },
     "metadata": {
      "needs_background": "light"
     },
     "output_type": "display_data"
    }
   ],
   "source": [
    "plt.plot(grnd_time_small)\n",
    "plt.show()"
   ]
  },
  {
   "cell_type": "markdown",
   "id": "ad7156bb",
   "metadata": {},
   "source": [
    "#### Within the plot above the data does not really trend with time. Meaning it follows a similar pattern throughout the whole plot. Also the data shows a relatively constant variance throughout the plot. There are a quite a few spikes in the data, but they don't seem to occur in any sort of pattern. So these instances can be modeled as outliers in the dataset. Therefore the data for ground time for each aircraft at Port-au-Prince airport is stationary. "
   ]
  },
  {
   "cell_type": "markdown",
   "id": "065d295c",
   "metadata": {},
   "source": [
    "### Check for Independence"
   ]
  },
  {
   "cell_type": "code",
   "execution_count": 147,
   "id": "05e8730c",
   "metadata": {},
   "outputs": [
    {
     "data": {
      "text/plain": [
       "851"
      ]
     },
     "execution_count": 147,
     "metadata": {},
     "output_type": "execute_result"
    }
   ],
   "source": [
    "turns3 = turning_points_test(grnd_time_small)\n",
    "turns3"
   ]
  },
  {
   "cell_type": "markdown",
   "id": "cfdfa2bf",
   "metadata": {},
   "source": [
    "#### Mean"
   ]
  },
  {
   "cell_type": "code",
   "execution_count": 148,
   "id": "fd631d0c",
   "metadata": {},
   "outputs": [
    {
     "data": {
      "text/plain": [
       "836.6666666666666"
      ]
     },
     "execution_count": 148,
     "metadata": {},
     "output_type": "execute_result"
    }
   ],
   "source": [
    "Mean_R3 = ((2*len(grnd_time_small))-4) / 3\n",
    "Mean_R3"
   ]
  },
  {
   "cell_type": "markdown",
   "id": "85df9a55",
   "metadata": {},
   "source": [
    "#### Standard Deviation"
   ]
  },
  {
   "cell_type": "code",
   "execution_count": 149,
   "id": "1ea4ae45",
   "metadata": {},
   "outputs": [
    {
     "data": {
      "text/plain": [
       "223.14444444444445"
      ]
     },
     "execution_count": 149,
     "metadata": {},
     "output_type": "execute_result"
    }
   ],
   "source": [
    "Sigma_R23 = ((16*len(grnd_time_small))-29) / 90\n",
    "Sigma_R23"
   ]
  },
  {
   "cell_type": "markdown",
   "id": "81f4a0fa",
   "metadata": {},
   "source": [
    "#### Test Stat"
   ]
  },
  {
   "cell_type": "code",
   "execution_count": 150,
   "id": "a6d28590",
   "metadata": {},
   "outputs": [
    {
     "data": {
      "text/plain": [
       "0.9595202871212294"
      ]
     },
     "execution_count": 150,
     "metadata": {},
     "output_type": "execute_result"
    }
   ],
   "source": [
    "test_stat3 = (turns3 - Mean_R3) / math.sqrt(Sigma_R23)\n",
    "test_stat3"
   ]
  },
  {
   "cell_type": "markdown",
   "id": "c48e319f",
   "metadata": {},
   "source": [
    "#### Conclusion"
   ]
  },
  {
   "cell_type": "code",
   "execution_count": 151,
   "id": "f2b6c6b2",
   "metadata": {},
   "outputs": [
    {
     "name": "stdout",
     "output_type": "stream",
     "text": [
      "Fail to reject the null hypothesis that the data is independent\n"
     ]
    }
   ],
   "source": [
    "if test_stat3 < stats.norm.ppf(0.025) or test_stat3 > stats.norm.ppf(0.975):\n",
    "    print(\"Reject the null hypothesis that the data is independent\")\n",
    "else:\n",
    "    print(\"Fail to reject the null hypothesis that the data is independent\")"
   ]
  },
  {
   "cell_type": "markdown",
   "id": "020b5f68",
   "metadata": {},
   "source": [
    "#### In the turning points test we failed to reject the null hypothesis, meaning that we concluded the data is independent.\n"
   ]
  },
  {
   "cell_type": "markdown",
   "id": "4693af3a",
   "metadata": {},
   "source": [
    "### Fitting a Distribution"
   ]
  },
  {
   "cell_type": "code",
   "execution_count": 152,
   "id": "642abee4",
   "metadata": {},
   "outputs": [
    {
     "data": {
      "text/html": [
       "<div>\n",
       "<style scoped>\n",
       "    .dataframe tbody tr th:only-of-type {\n",
       "        vertical-align: middle;\n",
       "    }\n",
       "\n",
       "    .dataframe tbody tr th {\n",
       "        vertical-align: top;\n",
       "    }\n",
       "\n",
       "    .dataframe thead th {\n",
       "        text-align: right;\n",
       "    }\n",
       "</style>\n",
       "<table border=\"1\" class=\"dataframe\">\n",
       "  <thead>\n",
       "    <tr style=\"text-align: right;\">\n",
       "      <th></th>\n",
       "      <th>sumsquare_error</th>\n",
       "      <th>aic</th>\n",
       "      <th>bic</th>\n",
       "      <th>kl_div</th>\n",
       "    </tr>\n",
       "  </thead>\n",
       "  <tbody>\n",
       "    <tr>\n",
       "      <th>beta</th>\n",
       "      <td>3.525823</td>\n",
       "      <td>256.629794</td>\n",
       "      <td>-7358.050217</td>\n",
       "      <td>inf</td>\n",
       "    </tr>\n",
       "    <tr>\n",
       "      <th>norm</th>\n",
       "      <td>3.533383</td>\n",
       "      <td>253.264899</td>\n",
       "      <td>-7369.630755</td>\n",
       "      <td>inf</td>\n",
       "    </tr>\n",
       "    <tr>\n",
       "      <th>lognorm</th>\n",
       "      <td>3.544063</td>\n",
       "      <td>255.729519</td>\n",
       "      <td>-7358.700671</td>\n",
       "      <td>inf</td>\n",
       "    </tr>\n",
       "    <tr>\n",
       "      <th>gamma</th>\n",
       "      <td>3.560433</td>\n",
       "      <td>256.343285</td>\n",
       "      <td>-7352.908038</td>\n",
       "      <td>inf</td>\n",
       "    </tr>\n",
       "    <tr>\n",
       "      <th>weibull_min</th>\n",
       "      <td>3.893747</td>\n",
       "      <td>263.167920</td>\n",
       "      <td>-7240.419364</td>\n",
       "      <td>inf</td>\n",
       "    </tr>\n",
       "  </tbody>\n",
       "</table>\n",
       "</div>"
      ],
      "text/plain": [
       "             sumsquare_error         aic          bic  kl_div\n",
       "beta                3.525823  256.629794 -7358.050217     inf\n",
       "norm                3.533383  253.264899 -7369.630755     inf\n",
       "lognorm             3.544063  255.729519 -7358.700671     inf\n",
       "gamma               3.560433  256.343285 -7352.908038     inf\n",
       "weibull_min         3.893747  263.167920 -7240.419364     inf"
      ]
     },
     "execution_count": 152,
     "metadata": {},
     "output_type": "execute_result"
    },
    {
     "data": {
      "image/png": "[encoded data removed]",
      "text/plain": [
       "<Figure size 432x288 with 1 Axes>"
      ]
     },
     "metadata": {
      "needs_background": "light"
     },
     "output_type": "display_data"
    }
   ],
   "source": [
    "f3 = Fitter(grnd_time_small,\n",
    "           distributions=['gamma',\n",
    "                          'lognorm',\n",
    "                          'norm',\n",
    "                          'beta',\n",
    "                          'weibull_min'])\n",
    "f3.fit()\n",
    "f3.summary()"
   ]
  },
  {
   "cell_type": "code",
   "execution_count": 153,
   "id": "56314a56",
   "metadata": {},
   "outputs": [
    {
     "data": {
      "text/plain": [
       "(2473.4470779115754, -9.734305966619512, 0.00437755831023072)"
      ]
     },
     "execution_count": 153,
     "metadata": {},
     "output_type": "execute_result"
    }
   ],
   "source": [
    "f3.fitted_param['gamma']"
   ]
  },
  {
   "cell_type": "markdown",
   "id": "0cd41186",
   "metadata": {},
   "source": [
    "#### The gamma distribution will also work great for this dataset. Also it can only model positive values like the log-normal distribution. Which is great because ground time should not have any negative values. The gamma distribution is also great for modeling time inbetween events, and the ground time data is the time between landing and taking off. Therefore the ground time data for small aircraft can be modeled with a mean of -9.7343 hours, a standard deviation of 0.0044 hours, and the last parameter of 2473.4471 hours. "
   ]
  }
 ],
 "metadata": {
  "kernelspec": {
   "display_name": "Python 3 (ipykernel)",
   "language": "python",
   "name": "python3"
  },
  "language_info": {
   "codemirror_mode": {
    "name": "ipython",
    "version": 3
   },
   "file_extension": ".py",
   "mimetype": "text/x-python",
   "name": "python",
   "nbconvert_exporter": "python",
   "pygments_lexer": "ipython3",
   "version": "3.9.7"
  }
 },
 "nbformat": 4,
 "nbformat_minor": 5
}
