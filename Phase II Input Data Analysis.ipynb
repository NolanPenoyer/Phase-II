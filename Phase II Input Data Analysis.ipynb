{
 "cells": [
  {
   "cell_type": "markdown",
   "id": "a784aaea",
   "metadata": {},
   "source": [
    "# Port-au-Prince Input Data Analysis "
   ]
  },
  {
   "cell_type": "markdown",
   "id": "9097bed2",
   "metadata": {},
   "source": [
    "### Authors: Carter Murphy, Nick Bourgeois, Mackenzie Kummer, Nolan Penoyer"
   ]
  },
  {
   "cell_type": "markdown",
   "id": "f08e9a6c",
   "metadata": {},
   "source": [
    "## Importing Packages"
   ]
  },
  {
   "cell_type": "code",
   "execution_count": 1,
   "id": "79ff68bb",
   "metadata": {},
   "outputs": [],
   "source": [
    "import pandas as pd\n",
    "import numpy as np\n",
    "import matplotlib.pyplot as plt\n",
    "import seaborn as sns\n",
    "import math\n",
    "import scipy.stats as stats\n",
    "from fitter import Fitter, get_common_distributions, get_distributions\n",
    "from statsmodels.sandbox.stats.runs import runstest_1samp"
   ]
  },
  {
   "cell_type": "markdown",
   "id": "bb2b826e",
   "metadata": {},
   "source": [
    "## Reading the Data"
   ]
  },
  {
   "cell_type": "code",
   "execution_count": 2,
   "id": "0d88c6d9",
   "metadata": {},
   "outputs": [
    {
     "data": {
      "text/html": [
       "<div>\n",
       "<style scoped>\n",
       "    .dataframe tbody tr th:only-of-type {\n",
       "        vertical-align: middle;\n",
       "    }\n",
       "\n",
       "    .dataframe tbody tr th {\n",
       "        vertical-align: top;\n",
       "    }\n",
       "\n",
       "    .dataframe thead th {\n",
       "        text-align: right;\n",
       "    }\n",
       "</style>\n",
       "<table border=\"1\" class=\"dataframe\">\n",
       "  <thead>\n",
       "    <tr style=\"text-align: right;\">\n",
       "      <th></th>\n",
       "      <th>AC</th>\n",
       "      <th>Capacity (sTon)</th>\n",
       "      <th>Avg Load (sTon)</th>\n",
       "    </tr>\n",
       "  </thead>\n",
       "  <tbody>\n",
       "    <tr>\n",
       "      <th>0</th>\n",
       "      <td>707</td>\n",
       "      <td>26.0</td>\n",
       "      <td>20.28</td>\n",
       "    </tr>\n",
       "    <tr>\n",
       "      <th>1</th>\n",
       "      <td>727</td>\n",
       "      <td>13.0</td>\n",
       "      <td>10.14</td>\n",
       "    </tr>\n",
       "    <tr>\n",
       "      <th>2</th>\n",
       "      <td>737</td>\n",
       "      <td>11.0</td>\n",
       "      <td>8.58</td>\n",
       "    </tr>\n",
       "    <tr>\n",
       "      <th>3</th>\n",
       "      <td>747</td>\n",
       "      <td>78.0</td>\n",
       "      <td>60.84</td>\n",
       "    </tr>\n",
       "    <tr>\n",
       "      <th>4</th>\n",
       "      <td>767</td>\n",
       "      <td>58.0</td>\n",
       "      <td>45.24</td>\n",
       "    </tr>\n",
       "  </tbody>\n",
       "</table>\n",
       "</div>"
      ],
      "text/plain": [
       "    AC  Capacity (sTon)  Avg Load (sTon)\n",
       "0  707             26.0            20.28\n",
       "1  727             13.0            10.14\n",
       "2  737             11.0             8.58\n",
       "3  747             78.0            60.84\n",
       "4  767             58.0            45.24"
      ]
     },
     "execution_count": 2,
     "metadata": {},
     "output_type": "execute_result"
    }
   ],
   "source": [
    "aircraft_capabilities = pd.read_excel(\"AircraftCapabilities.xlsx\")\n",
    "aircraft_capabilities.head()"
   ]
  },
  {
   "cell_type": "markdown",
   "id": "5b92bf53",
   "metadata": {},
   "source": [
    "### Goes through all aircraft types, then lists the capacity (in tons) of each type of aircraft and the average load of each type of aircraft"
   ]
  },
  {
   "cell_type": "code",
   "execution_count": 4,
   "id": "6acc463d",
   "metadata": {},
   "outputs": [
    {
     "data": {
      "text/html": [
       "<div>\n",
       "<style scoped>\n",
       "    .dataframe tbody tr th:only-of-type {\n",
       "        vertical-align: middle;\n",
       "    }\n",
       "\n",
       "    .dataframe tbody tr th {\n",
       "        vertical-align: top;\n",
       "    }\n",
       "\n",
       "    .dataframe thead th {\n",
       "        text-align: right;\n",
       "    }\n",
       "</style>\n",
       "<table border=\"1\" class=\"dataframe\">\n",
       "  <thead>\n",
       "    <tr style=\"text-align: right;\">\n",
       "      <th></th>\n",
       "      <th>Gournd Time (Hrs)</th>\n",
       "      <th>ID</th>\n",
       "    </tr>\n",
       "  </thead>\n",
       "  <tbody>\n",
       "    <tr>\n",
       "      <th>0</th>\n",
       "      <td>1.872</td>\n",
       "      <td>2706</td>\n",
       "    </tr>\n",
       "    <tr>\n",
       "      <th>1</th>\n",
       "      <td>0.748</td>\n",
       "      <td>2707</td>\n",
       "    </tr>\n",
       "    <tr>\n",
       "      <th>2</th>\n",
       "      <td>1.454</td>\n",
       "      <td>2708</td>\n",
       "    </tr>\n",
       "    <tr>\n",
       "      <th>3</th>\n",
       "      <td>1.178</td>\n",
       "      <td>2709</td>\n",
       "    </tr>\n",
       "    <tr>\n",
       "      <th>4</th>\n",
       "      <td>1.202</td>\n",
       "      <td>2710</td>\n",
       "    </tr>\n",
       "  </tbody>\n",
       "</table>\n",
       "</div>"
      ],
      "text/plain": [
       "   Gournd Time (Hrs)    ID\n",
       "0              1.872  2706\n",
       "1              0.748  2707\n",
       "2              1.454  2708\n",
       "3              1.178  2709\n",
       "4              1.202  2710"
      ]
     },
     "execution_count": 4,
     "metadata": {},
     "output_type": "execute_result"
    }
   ],
   "source": [
    "ground_time = pd.read_excel(\"GroundTime.xlsx\")\n",
    "ground_time = ground_time.drop(ground_time.columns[[2,3]], axis=1)\n",
    "ground_time.head()"
   ]
  },
  {
   "cell_type": "markdown",
   "id": "dbb61721",
   "metadata": {},
   "source": [
    "### Lists an ID for each plane that can be found in HFOCC data, and pairs the ground time (in hours) for every aircraft"
   ]
  },
  {
   "cell_type": "code",
   "execution_count": 6,
   "id": "df8c1176",
   "metadata": {},
   "outputs": [
    {
     "data": {
      "text/html": [
       "<div>\n",
       "<style scoped>\n",
       "    .dataframe tbody tr th:only-of-type {\n",
       "        vertical-align: middle;\n",
       "    }\n",
       "\n",
       "    .dataframe tbody tr th {\n",
       "        vertical-align: top;\n",
       "    }\n",
       "\n",
       "    .dataframe thead th {\n",
       "        text-align: right;\n",
       "    }\n",
       "</style>\n",
       "<table border=\"1\" class=\"dataframe\">\n",
       "  <thead>\n",
       "    <tr style=\"text-align: right;\">\n",
       "      <th></th>\n",
       "      <th>Request Status</th>\n",
       "      <th>Arrival Date</th>\n",
       "      <th>Arrival Time</th>\n",
       "      <th>Organization</th>\n",
       "      <th>Aircraft Type</th>\n",
       "      <th>Call Sign</th>\n",
       "      <th>Tail #</th>\n",
       "      <th>A/C Size</th>\n",
       "      <th>Affiliation</th>\n",
       "      <th>Request ID</th>\n",
       "      <th>...</th>\n",
       "      <th>Nationality</th>\n",
       "      <th>Mission purpose</th>\n",
       "      <th># Pax</th>\n",
       "      <th>CNX DATE</th>\n",
       "      <th>CNX TIME</th>\n",
       "      <th>AF Planner Remarks</th>\n",
       "      <th>AF Manager Remarks</th>\n",
       "      <th>ID</th>\n",
       "      <th>Modified</th>\n",
       "      <th>Created</th>\n",
       "    </tr>\n",
       "  </thead>\n",
       "  <tbody>\n",
       "    <tr>\n",
       "      <th>0</th>\n",
       "      <td>Complete</td>\n",
       "      <td>2010-01-12</td>\n",
       "      <td>2100Z</td>\n",
       "      <td>DSWA LLC</td>\n",
       "      <td>LEARJET</td>\n",
       "      <td>N4009</td>\n",
       "      <td>N4009</td>\n",
       "      <td>N</td>\n",
       "      <td>NGO</td>\n",
       "      <td>TBD</td>\n",
       "      <td>...</td>\n",
       "      <td>UNITED STATES</td>\n",
       "      <td>MEDICAL SUPPLIES/MEDICAL PAX</td>\n",
       "      <td>UNK</td>\n",
       "      <td>NaN</td>\n",
       "      <td>NaN</td>\n",
       "      <td>JJ</td>\n",
       "      <td>NaN</td>\n",
       "      <td>2706</td>\n",
       "      <td>2010-02-06 15:22:56</td>\n",
       "      <td>2010-02-03 09:08:54</td>\n",
       "    </tr>\n",
       "    <tr>\n",
       "      <th>1</th>\n",
       "      <td>Complete</td>\n",
       "      <td>2010-01-15</td>\n",
       "      <td>1900Z</td>\n",
       "      <td>DOD</td>\n",
       "      <td>UNKNOWN</td>\n",
       "      <td>PAT141</td>\n",
       "      <td>Unknown</td>\n",
       "      <td>S</td>\n",
       "      <td>MIL</td>\n",
       "      <td>TBD</td>\n",
       "      <td>...</td>\n",
       "      <td>UNITED STATES</td>\n",
       "      <td>GA ARMY GUARD PAX  &amp; CARGO</td>\n",
       "      <td>2</td>\n",
       "      <td>NaN</td>\n",
       "      <td>NaN</td>\n",
       "      <td>NaN</td>\n",
       "      <td>NaN</td>\n",
       "      <td>2707</td>\n",
       "      <td>2010-02-11 10:36:54</td>\n",
       "      <td>2010-02-03 09:08:54</td>\n",
       "    </tr>\n",
       "    <tr>\n",
       "      <th>2</th>\n",
       "      <td>Complete</td>\n",
       "      <td>2010-01-16</td>\n",
       "      <td>0400Z</td>\n",
       "      <td>US SENATOR</td>\n",
       "      <td>GULFSTREAM</td>\n",
       "      <td>N450GD</td>\n",
       "      <td>N450GD</td>\n",
       "      <td>N</td>\n",
       "      <td>GOV</td>\n",
       "      <td>125</td>\n",
       "      <td>...</td>\n",
       "      <td>UNITED STATES</td>\n",
       "      <td>PICK UP EVACUEES</td>\n",
       "      <td>14</td>\n",
       "      <td>NaN</td>\n",
       "      <td>NaN</td>\n",
       "      <td>NaN</td>\n",
       "      <td>NaN</td>\n",
       "      <td>2708</td>\n",
       "      <td>2010-02-06 15:01:10</td>\n",
       "      <td>2010-02-03 09:08:54</td>\n",
       "    </tr>\n",
       "    <tr>\n",
       "      <th>3</th>\n",
       "      <td>Complete</td>\n",
       "      <td>2010-01-16</td>\n",
       "      <td>0900Z</td>\n",
       "      <td>DoD (612)</td>\n",
       "      <td>UNKNOWN</td>\n",
       "      <td>SHARK94</td>\n",
       "      <td>Unknown</td>\n",
       "      <td>N</td>\n",
       "      <td>MIL</td>\n",
       "      <td>F319</td>\n",
       "      <td>...</td>\n",
       "      <td>UNITED STATES</td>\n",
       "      <td>CARGO OUT/AM DIV SHUTTLE</td>\n",
       "      <td>UNK</td>\n",
       "      <td>NaN</td>\n",
       "      <td>NaN</td>\n",
       "      <td>NaN</td>\n",
       "      <td>NaN</td>\n",
       "      <td>2709</td>\n",
       "      <td>2010-02-07 08:20:31</td>\n",
       "      <td>2010-02-03 09:08:54</td>\n",
       "    </tr>\n",
       "    <tr>\n",
       "      <th>4</th>\n",
       "      <td>Complete</td>\n",
       "      <td>2010-01-16</td>\n",
       "      <td>1000Z</td>\n",
       "      <td>1 SOW</td>\n",
       "      <td>C130</td>\n",
       "      <td>RCH1031</td>\n",
       "      <td>UNKNOWN</td>\n",
       "      <td>N</td>\n",
       "      <td>MIL</td>\n",
       "      <td>159</td>\n",
       "      <td>...</td>\n",
       "      <td>UNITED STATES</td>\n",
       "      <td>MEDICAL SUPPLIES</td>\n",
       "      <td>5</td>\n",
       "      <td>NaN</td>\n",
       "      <td>NaN</td>\n",
       "      <td>NaN</td>\n",
       "      <td>NaN</td>\n",
       "      <td>2710</td>\n",
       "      <td>2010-02-11 13:24:41</td>\n",
       "      <td>2010-02-03 09:08:54</td>\n",
       "    </tr>\n",
       "  </tbody>\n",
       "</table>\n",
       "<p>5 rows × 21 columns</p>\n",
       "</div>"
      ],
      "text/plain": [
       "  Request Status Arrival Date Arrival Time Organization Aircraft Type  \\\n",
       "0       Complete   2010-01-12        2100Z     DSWA LLC       LEARJET   \n",
       "1       Complete   2010-01-15        1900Z          DOD       UNKNOWN   \n",
       "2       Complete   2010-01-16        0400Z   US SENATOR    GULFSTREAM   \n",
       "3       Complete   2010-01-16        0900Z    DoD (612)       UNKNOWN   \n",
       "4       Complete   2010-01-16        1000Z        1 SOW          C130   \n",
       "\n",
       "  Call Sign   Tail # A/C Size Affiliation Request ID  ...    Nationality  \\\n",
       "0     N4009    N4009        N         NGO        TBD  ...  UNITED STATES   \n",
       "1    PAT141  Unknown        S         MIL        TBD  ...  UNITED STATES   \n",
       "2    N450GD   N450GD        N         GOV        125  ...  UNITED STATES   \n",
       "3   SHARK94  Unknown        N         MIL       F319  ...  UNITED STATES   \n",
       "4   RCH1031  UNKNOWN        N         MIL        159  ...  UNITED STATES   \n",
       "\n",
       "                Mission purpose # Pax CNX DATE  CNX TIME AF Planner Remarks  \\\n",
       "0  MEDICAL SUPPLIES/MEDICAL PAX   UNK      NaN       NaN                 JJ   \n",
       "1    GA ARMY GUARD PAX  & CARGO     2      NaN       NaN                NaN   \n",
       "2              PICK UP EVACUEES    14      NaN       NaN                NaN   \n",
       "3      CARGO OUT/AM DIV SHUTTLE   UNK      NaN       NaN                NaN   \n",
       "4              MEDICAL SUPPLIES     5      NaN       NaN                NaN   \n",
       "\n",
       "  AF Manager Remarks    ID            Modified             Created  \n",
       "0                NaN  2706 2010-02-06 15:22:56 2010-02-03 09:08:54  \n",
       "1                NaN  2707 2010-02-11 10:36:54 2010-02-03 09:08:54  \n",
       "2                NaN  2708 2010-02-06 15:01:10 2010-02-03 09:08:54  \n",
       "3                NaN  2709 2010-02-07 08:20:31 2010-02-03 09:08:54  \n",
       "4                NaN  2710 2010-02-11 13:24:41 2010-02-03 09:08:54  \n",
       "\n",
       "[5 rows x 21 columns]"
      ]
     },
     "execution_count": 6,
     "metadata": {},
     "output_type": "execute_result"
    }
   ],
   "source": [
    "hfocc = pd.read_excel(\"HFOCC.xlsx\")\n",
    "hfocc.head()"
   ]
  },
  {
   "cell_type": "markdown",
   "id": "5c20b7cf",
   "metadata": {},
   "source": [
    "### Lots of unnecessary data, lets us know the Id of plane and what type of plane it is. Also tells us the arrival time and arrival date. Also whether the plane actually arrived "
   ]
  },
  {
   "cell_type": "code",
   "execution_count": 7,
   "id": "626880d6",
   "metadata": {},
   "outputs": [
    {
     "data": {
      "text/html": [
       "<div>\n",
       "<style scoped>\n",
       "    .dataframe tbody tr th:only-of-type {\n",
       "        vertical-align: middle;\n",
       "    }\n",
       "\n",
       "    .dataframe tbody tr th {\n",
       "        vertical-align: top;\n",
       "    }\n",
       "\n",
       "    .dataframe thead th {\n",
       "        text-align: right;\n",
       "    }\n",
       "</style>\n",
       "<table border=\"1\" class=\"dataframe\">\n",
       "  <thead>\n",
       "    <tr style=\"text-align: right;\">\n",
       "      <th></th>\n",
       "      <th>Dates</th>\n",
       "      <th>Water</th>\n",
       "      <th>Food</th>\n",
       "      <th>Medical</th>\n",
       "      <th>Logistics</th>\n",
       "    </tr>\n",
       "  </thead>\n",
       "  <tbody>\n",
       "    <tr>\n",
       "      <th>0</th>\n",
       "      <td>13 Jan-28 Jan</td>\n",
       "      <td>390</td>\n",
       "      <td>290</td>\n",
       "      <td>250</td>\n",
       "      <td>700</td>\n",
       "    </tr>\n",
       "    <tr>\n",
       "      <th>1</th>\n",
       "      <td>29 Jan-28 Feb</td>\n",
       "      <td>195</td>\n",
       "      <td>145</td>\n",
       "      <td>125</td>\n",
       "      <td>200</td>\n",
       "    </tr>\n",
       "  </tbody>\n",
       "</table>\n",
       "</div>"
      ],
      "text/plain": [
       "           Dates  Water  Food  Medical  Logistics\n",
       "0  13 Jan-28 Jan    390   290      250        700\n",
       "1  29 Jan-28 Feb    195   145      125        200"
      ]
     },
     "execution_count": 7,
     "metadata": {},
     "output_type": "execute_result"
    }
   ],
   "source": [
    "data = [['13 Jan-28 Jan',390,290,250,700],['29 Jan-28 Feb',195,145,125,200]]\n",
    "daily_demand = pd.DataFrame(data,columns=['Dates','Water','Food','Medical','Logistics'])\n",
    "daily_demand"
   ]
  },
  {
   "cell_type": "markdown",
   "id": "2ae7cc32",
   "metadata": {},
   "source": [
    "### Lists the average daily demand (in tons) of water, food, medical supplies, and logistics over the specified dates"
   ]
  },
  {
   "cell_type": "markdown",
   "id": "62256c52",
   "metadata": {},
   "source": [
    "## Analysis of Ground Time Data"
   ]
  },
  {
   "cell_type": "markdown",
   "id": "30c23b81",
   "metadata": {},
   "source": [
    "### Continous or Discrete?"
   ]
  },
  {
   "cell_type": "code",
   "execution_count": 10,
   "id": "cde6d6f2",
   "metadata": {},
   "outputs": [
    {
     "data": {
      "text/plain": [
       "Gournd Time (Hrs)    float64\n",
       "ID                     int64\n",
       "dtype: object"
      ]
     },
     "execution_count": 10,
     "metadata": {},
     "output_type": "execute_result"
    }
   ],
   "source": [
    "ground_time.dtypes"
   ]
  },
  {
   "cell_type": "markdown",
   "id": "75e4e5de",
   "metadata": {},
   "source": [
    "#### The two columns in this data list the ground time for every aircraft that landed at Port-au-Prince airport, and the aircraft ID that goes with each aircraft. As seen above python has listed the ground time variable as a float object, while the ID variable is listed as an integer object. Further for the ground time variable, time is always modeled as a continuous variable. Therefore it is safe to assume that the ground time column will follow a continous distribution. "
   ]
  },
  {
   "cell_type": "markdown",
   "id": "09617f9a",
   "metadata": {},
   "source": [
    "### Check for Homogeneity"
   ]
  },
  {
   "cell_type": "code",
   "execution_count": 12,
   "id": "f2cdab74",
   "metadata": {},
   "outputs": [
    {
     "data": {
      "text/plain": [
       "array([1.872, 0.748, 1.454, ..., 1.668, 1.237, 1.703])"
      ]
     },
     "execution_count": 12,
     "metadata": {},
     "output_type": "execute_result"
    }
   ],
   "source": [
    "grnd_time = ground_time['Gournd Time (Hrs)'].values\n",
    "grnd_time"
   ]
  },
  {
   "cell_type": "code",
   "execution_count": 14,
   "id": "02baa29e",
   "metadata": {},
   "outputs": [
    {
     "data": {
      "image/png": "[encoded data removed]",
      "text/plain": [
       "<Figure size 432x288 with 1 Axes>"
      ]
     },
     "metadata": {
      "needs_background": "light"
     },
     "output_type": "display_data"
    }
   ],
   "source": [
    "sns.histplot(grnd_time)\n",
    "plt.show()"
   ]
  },
  {
   "cell_type": "markdown",
   "id": "af321808",
   "metadata": {},
   "source": [
    "#### The data follows one distribution with a mean of roughly 1.2 hours. However the data is skewed to the right. Despite the skewness in the data, it is still in fact homogenous. "
   ]
  },
  {
   "cell_type": "markdown",
   "id": "6e1fbf23",
   "metadata": {},
   "source": [
    "### Check for Stationarity"
   ]
  },
  {
   "cell_type": "code",
   "execution_count": 15,
   "id": "1946c44e",
   "metadata": {},
   "outputs": [
    {
     "data": {
      "image/png": "[encoded data removed]",
      "text/plain": [
       "<Figure size 432x288 with 1 Axes>"
      ]
     },
     "metadata": {
      "needs_background": "light"
     },
     "output_type": "display_data"
    }
   ],
   "source": [
    "plt.plot(grnd_time)\n",
    "plt.show()"
   ]
  },
  {
   "cell_type": "markdown",
   "id": "8728d13e",
   "metadata": {},
   "source": [
    "#### Within the plot above the data does not really trend with time. Meaning it follows a similar pattern throughout the whole plot. Also the data shows a relatively constant variance throughout the plot. There are a quite a few spikes in the data, but they don't seem to occur in any sort of pattern. So these instances can be modeled as outliers in the dataset. Therefore the data for ground time for each aircraft at Port-au-Prince airport is stationary. "
   ]
  },
  {
   "cell_type": "markdown",
   "id": "c8bd21cf",
   "metadata": {},
   "source": [
    "### Check for Independence using a Turning Points Test"
   ]
  },
  {
   "cell_type": "code",
   "execution_count": 18,
   "id": "388d9c32",
   "metadata": {},
   "outputs": [],
   "source": [
    "def turning_points_test(x):\n",
    "    dx = np.diff(x)\n",
    "    return np.sum(dx[1:] * dx[:-1] < 0)"
   ]
  },
  {
   "cell_type": "code",
   "execution_count": 20,
   "id": "16e35da8",
   "metadata": {},
   "outputs": [
    {
     "data": {
      "text/plain": [
       "3627"
      ]
     },
     "execution_count": 20,
     "metadata": {},
     "output_type": "execute_result"
    }
   ],
   "source": [
    "turns = turning_points_test(grnd_time)\n",
    "turns"
   ]
  },
  {
   "cell_type": "markdown",
   "id": "40fee353",
   "metadata": {},
   "source": [
    "#### Mean "
   ]
  },
  {
   "cell_type": "code",
   "execution_count": 24,
   "id": "3d3f3d82",
   "metadata": {},
   "outputs": [
    {
     "data": {
      "text/plain": [
       "3621.3333333333335"
      ]
     },
     "execution_count": 24,
     "metadata": {},
     "output_type": "execute_result"
    }
   ],
   "source": [
    "Mean_R = ((2*len(grnd_time))-4) / 3\n",
    "Mean_R"
   ]
  },
  {
   "cell_type": "markdown",
   "id": "41c19f60",
   "metadata": {},
   "source": [
    "#### Standard Deviation"
   ]
  },
  {
   "cell_type": "code",
   "execution_count": 25,
   "id": "db2bba5b",
   "metadata": {},
   "outputs": [
    {
     "data": {
      "text/plain": [
       "965.7222222222222"
      ]
     },
     "execution_count": 25,
     "metadata": {},
     "output_type": "execute_result"
    }
   ],
   "source": [
    "Sigma_R2 = ((16*len(grnd_time))-29) / 90\n",
    "Sigma_R2"
   ]
  },
  {
   "cell_type": "markdown",
   "id": "98512b90",
   "metadata": {},
   "source": [
    "#### Test Statistic"
   ]
  },
  {
   "cell_type": "code",
   "execution_count": 28,
   "id": "c7ccfef4",
   "metadata": {},
   "outputs": [
    {
     "data": {
      "text/plain": [
       "0.18234823084939997"
      ]
     },
     "execution_count": 28,
     "metadata": {},
     "output_type": "execute_result"
    }
   ],
   "source": [
    "test_stat = (turns - Mean_R) / math.sqrt(Sigma_R2)\n",
    "test_stat"
   ]
  },
  {
   "cell_type": "markdown",
   "id": "e47af1a9",
   "metadata": {},
   "source": [
    "#### H_O : The data is independent \n",
    "#### H_A : The data is not independent"
   ]
  },
  {
   "cell_type": "code",
   "execution_count": 29,
   "id": "1e886abf",
   "metadata": {},
   "outputs": [
    {
     "name": "stdout",
     "output_type": "stream",
     "text": [
      "Fail to reject the null hypothesis that the data is independent\n"
     ]
    }
   ],
   "source": [
    "if test_stat < stats.norm.ppf(0.025) or test_stat > stats.norm.ppf(0.975):\n",
    "    print(\"Reject the null hypothesis that the data is independent\")\n",
    "else:\n",
    "    print(\"Fail to reject the null hypothesis that the data is independent\")"
   ]
  },
  {
   "cell_type": "markdown",
   "id": "8a6f6900",
   "metadata": {},
   "source": [
    "### Check for Independence using a Runs Test about the Mean"
   ]
  },
  {
   "cell_type": "code",
   "execution_count": 34,
   "id": "aaf77097",
   "metadata": {},
   "outputs": [
    {
     "data": {
      "text/plain": [
       "(-5.090924845003865, 3.5632124750306147e-07)"
      ]
     },
     "execution_count": 34,
     "metadata": {},
     "output_type": "execute_result"
    }
   ],
   "source": [
    "runs_test = runstest_1samp(x=grnd_time,cutoff='mean')\n",
    "runs_test"
   ]
  },
  {
   "cell_type": "code",
   "execution_count": 35,
   "id": "85a0c669",
   "metadata": {},
   "outputs": [
    {
     "name": "stdout",
     "output_type": "stream",
     "text": [
      "Reject the null hypothesis that the data is independent\n"
     ]
    }
   ],
   "source": [
    "if runs_test[0] < stats.norm.ppf(0.025) or runs_test[0] > stats.norm.ppf(0.975):\n",
    "    print(\"Reject the null hypothesis that the data is independent\")\n",
    "else:\n",
    "    print(\"Fail to reject the null hypothesis that the data is independent\")"
   ]
  },
  {
   "cell_type": "markdown",
   "id": "b06a2ea6",
   "metadata": {},
   "source": [
    "#### In the turning points test we failed to reject the null hypothesis, meaning that we concluded the data is independent. Then in the runs test about the mean we rejected the null hypothesis, so in that test we concluded that the data was not independent. However, the runs test is defined as a hypothesis test that checks the randomness in the data. Therefore our second conclusion to reject the null hypothesis makes more sense. The data is not really from a random process, once every aircraft landed it was timed and then added to the data once it left the airport. Therefore because the data passed the turning points test, the ground time data is independent. "
   ]
  },
  {
   "cell_type": "markdown",
   "id": "d32676de",
   "metadata": {},
   "source": [
    "### Ground Time data is Indpendently and Identically Distributed (IID)"
   ]
  },
  {
   "cell_type": "markdown",
   "id": "ae88347a",
   "metadata": {},
   "source": [
    "#### January 16th at 0900 10 more ground crews per day can be flown into the airport. "
   ]
  },
  {
   "cell_type": "code",
   "execution_count": null,
   "id": "3513997f",
   "metadata": {},
   "outputs": [],
   "source": []
  }
 ],
 "metadata": {
  "kernelspec": {
   "display_name": "Python 3 (ipykernel)",
   "language": "python",
   "name": "python3"
  },
  "language_info": {
   "codemirror_mode": {
    "name": "ipython",
    "version": 3
   },
   "file_extension": ".py",
   "mimetype": "text/x-python",
   "name": "python",
   "nbconvert_exporter": "python",
   "pygments_lexer": "ipython3",
   "version": "3.9.7"
  }
 },
 "nbformat": 4,
 "nbformat_minor": 5
}
